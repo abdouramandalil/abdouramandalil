{
  "nbformat": 4,
  "nbformat_minor": 0,
  "metadata": {
    "colab": {
      "name": "Distributed model strategy.ipynb",
      "provenance": [],
      "authorship_tag": "ABX9TyOQMdJkOaSSYmQm8PbGt4Vi",
      "include_colab_link": true
    },
    "kernelspec": {
      "name": "python3",
      "display_name": "Python 3"
    },
    "language_info": {
      "name": "python"
    },
    "accelerator": "GPU"
  },
  "cells": [
    {
      "cell_type": "markdown",
      "metadata": {
        "id": "view-in-github",
        "colab_type": "text"
      },
      "source": [
        "<a href=\"https://colab.research.google.com/github/abdouramandalil/abdouramandalil/blob/main/Distributed_model_strategy.ipynb\" target=\"_parent\"><img src=\"https://colab.research.google.com/assets/colab-badge.svg\" alt=\"Open In Colab\"/></a>"
      ]
    },
    {
      "cell_type": "markdown",
      "metadata": {
        "id": "ptDmQfT8jauw"
      },
      "source": [
        "# **1-Check tensorflow version**"
      ]
    },
    {
      "cell_type": "markdown",
      "metadata": {
        "id": "DOoefcfQkUez"
      },
      "source": [
        ""
      ]
    },
    {
      "cell_type": "code",
      "metadata": {
        "colab": {
          "base_uri": "https://localhost:8080/",
          "height": 36
        },
        "id": "0ruleW7aZ0AS",
        "outputId": "fbb003dd-5e14-49c4-aae9-bde3a82f4891"
      },
      "source": [
        "import tensorflow as tf\n",
        "tf.__version__"
      ],
      "execution_count": 2,
      "outputs": [
        {
          "output_type": "execute_result",
          "data": {
            "application/vnd.google.colaboratory.intrinsic+json": {
              "type": "string"
            },
            "text/plain": [
              "'2.5.0'"
            ]
          },
          "metadata": {
            "tags": []
          },
          "execution_count": 2
        }
      ]
    },
    {
      "cell_type": "markdown",
      "metadata": {
        "id": "KO9b2dIrjkv8"
      },
      "source": [
        "# **2-Import libraries**"
      ]
    },
    {
      "cell_type": "code",
      "metadata": {
        "id": "paAEpb_dagFH"
      },
      "source": [
        "import numpy as np\n",
        "import time\n",
        "import tensorflow as tf"
      ],
      "execution_count": 3,
      "outputs": []
    },
    {
      "cell_type": "markdown",
      "metadata": {
        "id": "GpN-wXbpjuvP"
      },
      "source": [
        "# **3-Import Dataset**"
      ]
    },
    {
      "cell_type": "code",
      "metadata": {
        "colab": {
          "base_uri": "https://localhost:8080/"
        },
        "id": "n0TFCRYpagJJ",
        "outputId": "a0ac33a3-3edf-48ba-8c82-6970ea0258e7"
      },
      "source": [
        "(X_train,y_train),(X_test,y_test)=tf.keras.datasets.mnist.load_data()"
      ],
      "execution_count": 4,
      "outputs": [
        {
          "output_type": "stream",
          "text": [
            "Downloading data from https://storage.googleapis.com/tensorflow/tf-keras-datasets/mnist.npz\n",
            "11493376/11490434 [==============================] - 0s 0us/step\n"
          ],
          "name": "stdout"
        }
      ]
    },
    {
      "cell_type": "code",
      "metadata": {
        "id": "aNaaF4oYagMr"
      },
      "source": [
        "X_train=X_train/255.\n",
        "X_test=X_test/255."
      ],
      "execution_count": 5,
      "outputs": []
    },
    {
      "cell_type": "code",
      "metadata": {
        "id": "45b_Tpz3agPz"
      },
      "source": [
        "X_train=X_train.reshape(-1,28*28)\n",
        "X_test=X_test.reshape(-1,28*28)"
      ],
      "execution_count": 6,
      "outputs": []
    },
    {
      "cell_type": "code",
      "metadata": {
        "colab": {
          "base_uri": "https://localhost:8080/"
        },
        "id": "iY7TqKCPagTA",
        "outputId": "bdee427d-be5e-4ea8-e3ac-66ab720610bb"
      },
      "source": [
        "X_train.shape"
      ],
      "execution_count": 7,
      "outputs": [
        {
          "output_type": "execute_result",
          "data": {
            "text/plain": [
              "(60000, 784)"
            ]
          },
          "metadata": {
            "tags": []
          },
          "execution_count": 7
        }
      ]
    },
    {
      "cell_type": "markdown",
      "metadata": {
        "id": "7Bvt_mjOj8kH"
      },
      "source": [
        "# **4-Build Model**"
      ]
    },
    {
      "cell_type": "code",
      "metadata": {
        "id": "9o17deydd6Mm"
      },
      "source": [
        "model = tf.keras.models.Sequential()\n",
        "model.add(tf.keras.layers.Dense(units=128, activation='relu', input_shape=(784,)))\n",
        "model.add(tf.keras.layers.Dropout(rate=0.2))\n",
        "model.add(tf.keras.layers.Dense(units=10, activation='softmax'))\n",
        "model.compile(optimizer='adam', loss='sparse_categorical_crossentropy', metrics=['sparse_categorical_accuracy'])"
      ],
      "execution_count": 8,
      "outputs": []
    },
    {
      "cell_type": "markdown",
      "metadata": {
        "id": "wJqEwdvqkFhx"
      },
      "source": [
        "# **5-Distribute Mirror strategy**"
      ]
    },
    {
      "cell_type": "code",
      "metadata": {
        "colab": {
          "base_uri": "https://localhost:8080/"
        },
        "id": "c-PVzmXTd6Rh",
        "outputId": "e1ba364e-54c9-4231-d8ce-d58437d20f63"
      },
      "source": [
        "distribute=tf.distribute.MirroredStrategy()"
      ],
      "execution_count": 9,
      "outputs": [
        {
          "output_type": "stream",
          "text": [
            "WARNING:tensorflow:Collective ops is not configured at program startup. Some performance features may not be enabled.\n",
            "INFO:tensorflow:Using MirroredStrategy with devices ('/job:localhost/replica:0/task:0/device:GPU:0',)\n"
          ],
          "name": "stdout"
        }
      ]
    },
    {
      "cell_type": "code",
      "metadata": {
        "colab": {
          "base_uri": "https://localhost:8080/"
        },
        "id": "jNHOpJLRf_R6",
        "outputId": "07f49043-9880-4a75-84a9-eafe331ab20c"
      },
      "source": [
        "with distribute.scope():\n",
        "  model_distributed = tf.keras.models.Sequential()\n",
        "  model_distributed.add(tf.keras.layers.Dense(units=128, activation='relu', input_shape=(784,)))\n",
        "  model_distributed.add(tf.keras.layers.Dropout(rate=0.2))\n",
        "  model_distributed.add(tf.keras.layers.Dense(units=10, activation='softmax'))\n",
        "  model_distributed.compile(optimizer='adam', loss='sparse_categorical_crossentropy', metrics=['sparse_categorical_accuracy'])  "
      ],
      "execution_count": 10,
      "outputs": [
        {
          "output_type": "stream",
          "text": [
            "INFO:tensorflow:Reduce to /job:localhost/replica:0/task:0/device:CPU:0 then broadcast to ('/job:localhost/replica:0/task:0/device:CPU:0',).\n",
            "INFO:tensorflow:Reduce to /job:localhost/replica:0/task:0/device:CPU:0 then broadcast to ('/job:localhost/replica:0/task:0/device:CPU:0',).\n",
            "INFO:tensorflow:Reduce to /job:localhost/replica:0/task:0/device:CPU:0 then broadcast to ('/job:localhost/replica:0/task:0/device:CPU:0',).\n",
            "INFO:tensorflow:Reduce to /job:localhost/replica:0/task:0/device:CPU:0 then broadcast to ('/job:localhost/replica:0/task:0/device:CPU:0',).\n"
          ],
          "name": "stdout"
        }
      ]
    },
    {
      "cell_type": "markdown",
      "metadata": {
        "id": "5wIxdybnkMZ-"
      },
      "source": [
        "# **6-Compararison normal model-distributed model**"
      ]
    },
    {
      "cell_type": "code",
      "metadata": {
        "colab": {
          "base_uri": "https://localhost:8080/"
        },
        "id": "Bq1bWkjzf_Wh",
        "outputId": "e7ef62b5-8bdc-46a9-b7e7-f3e791ad7544"
      },
      "source": [
        "start_time=time.time()\n",
        "model_distributed.fit(X_train,y_train,epochs=10,batch_size=25)\n",
        "print(\"Distribued_training took:{}\".format(time.time()-start_time))"
      ],
      "execution_count": 11,
      "outputs": [
        {
          "output_type": "stream",
          "text": [
            "Epoch 1/10\n",
            "INFO:tensorflow:Reduce to /job:localhost/replica:0/task:0/device:CPU:0 then broadcast to ('/job:localhost/replica:0/task:0/device:CPU:0',).\n",
            "INFO:tensorflow:Reduce to /job:localhost/replica:0/task:0/device:CPU:0 then broadcast to ('/job:localhost/replica:0/task:0/device:CPU:0',).\n",
            "INFO:tensorflow:Reduce to /job:localhost/replica:0/task:0/device:CPU:0 then broadcast to ('/job:localhost/replica:0/task:0/device:CPU:0',).\n",
            "INFO:tensorflow:Reduce to /job:localhost/replica:0/task:0/device:CPU:0 then broadcast to ('/job:localhost/replica:0/task:0/device:CPU:0',).\n",
            "INFO:tensorflow:Reduce to /job:localhost/replica:0/task:0/device:CPU:0 then broadcast to ('/job:localhost/replica:0/task:0/device:CPU:0',).\n",
            "INFO:tensorflow:Reduce to /job:localhost/replica:0/task:0/device:CPU:0 then broadcast to ('/job:localhost/replica:0/task:0/device:CPU:0',).\n",
            "2400/2400 [==============================] - 13s 3ms/step - loss: 0.2840 - sparse_categorical_accuracy: 0.9174\n",
            "Epoch 2/10\n",
            "2400/2400 [==============================] - 8s 3ms/step - loss: 0.1381 - sparse_categorical_accuracy: 0.9594\n",
            "Epoch 3/10\n",
            "2400/2400 [==============================] - 8s 3ms/step - loss: 0.1053 - sparse_categorical_accuracy: 0.9671\n",
            "Epoch 4/10\n",
            "2400/2400 [==============================] - 8s 3ms/step - loss: 0.0860 - sparse_categorical_accuracy: 0.9730\n",
            "Epoch 5/10\n",
            "2400/2400 [==============================] - 8s 3ms/step - loss: 0.0729 - sparse_categorical_accuracy: 0.9767\n",
            "Epoch 6/10\n",
            "2400/2400 [==============================] - 8s 3ms/step - loss: 0.0650 - sparse_categorical_accuracy: 0.9794\n",
            "Epoch 7/10\n",
            "2400/2400 [==============================] - 8s 3ms/step - loss: 0.0593 - sparse_categorical_accuracy: 0.9805\n",
            "Epoch 8/10\n",
            "2400/2400 [==============================] - 8s 3ms/step - loss: 0.0515 - sparse_categorical_accuracy: 0.9830\n",
            "Epoch 9/10\n",
            "2400/2400 [==============================] - 8s 3ms/step - loss: 0.0478 - sparse_categorical_accuracy: 0.9845\n",
            "Epoch 10/10\n",
            "2400/2400 [==============================] - 8s 3ms/step - loss: 0.0456 - sparse_categorical_accuracy: 0.9848\n",
            "Distribued_training took:84.63803672790527\n"
          ],
          "name": "stdout"
        }
      ]
    },
    {
      "cell_type": "code",
      "metadata": {
        "colab": {
          "base_uri": "https://localhost:8080/"
        },
        "id": "eIJF0P7LiXOi",
        "outputId": "5da82dc0-bbee-4c23-aca1-e6e915eff232"
      },
      "source": [
        "start_time=time.time()\n",
        "model.fit(X_train,y_train,epochs=10,batch_size=25)\n",
        "print(\"Normal_training took:{}\".format(time.time()-start_time))"
      ],
      "execution_count": 12,
      "outputs": [
        {
          "output_type": "stream",
          "text": [
            "Epoch 1/10\n",
            "2400/2400 [==============================] - 6s 2ms/step - loss: 0.2850 - sparse_categorical_accuracy: 0.9171\n",
            "Epoch 2/10\n",
            "2400/2400 [==============================] - 5s 2ms/step - loss: 0.1377 - sparse_categorical_accuracy: 0.9582\n",
            "Epoch 3/10\n",
            "2400/2400 [==============================] - 5s 2ms/step - loss: 0.1037 - sparse_categorical_accuracy: 0.9680\n",
            "Epoch 4/10\n",
            "2400/2400 [==============================] - 5s 2ms/step - loss: 0.0861 - sparse_categorical_accuracy: 0.9735\n",
            "Epoch 5/10\n",
            "2400/2400 [==============================] - 6s 2ms/step - loss: 0.0725 - sparse_categorical_accuracy: 0.9770\n",
            "Epoch 6/10\n",
            "2400/2400 [==============================] - 5s 2ms/step - loss: 0.0644 - sparse_categorical_accuracy: 0.9790\n",
            "Epoch 7/10\n",
            "2400/2400 [==============================] - 6s 2ms/step - loss: 0.0576 - sparse_categorical_accuracy: 0.9812\n",
            "Epoch 8/10\n",
            "2400/2400 [==============================] - 5s 2ms/step - loss: 0.0523 - sparse_categorical_accuracy: 0.9829\n",
            "Epoch 9/10\n",
            "2400/2400 [==============================] - 6s 2ms/step - loss: 0.0484 - sparse_categorical_accuracy: 0.9834\n",
            "Epoch 10/10\n",
            "2400/2400 [==============================] - 5s 2ms/step - loss: 0.0451 - sparse_categorical_accuracy: 0.9850\n",
            "Normal_training took:82.3782160282135\n"
          ],
          "name": "stdout"
        }
      ]
    }
  ]
}