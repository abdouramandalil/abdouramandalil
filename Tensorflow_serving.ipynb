{
  "nbformat": 4,
  "nbformat_minor": 0,
  "metadata": {
    "colab": {
      "name": "Tensorflow_serving.ipynb",
      "provenance": [],
      "authorship_tag": "ABX9TyPMRoV++QrGMWk4+9DLj2mz",
      "include_colab_link": true
    },
    "kernelspec": {
      "name": "python3",
      "display_name": "Python 3"
    },
    "language_info": {
      "name": "python"
    },
    "accelerator": "GPU"
  },
  "cells": [
    {
      "cell_type": "markdown",
      "metadata": {
        "id": "view-in-github",
        "colab_type": "text"
      },
      "source": [
        "<a href=\"https://colab.research.google.com/github/abdouramandalil/abdouramandalil/blob/main/Tensorflow_serving.ipynb\" target=\"_parent\"><img src=\"https://colab.research.google.com/assets/colab-badge.svg\" alt=\"Open In Colab\"/></a>"
      ]
    },
    {
      "cell_type": "markdown",
      "metadata": {
        "id": "u-r1wFf9TRwd"
      },
      "source": [
        ""
      ]
    },
    {
      "cell_type": "markdown",
      "metadata": {
        "id": "5myuldaeTVcI"
      },
      "source": [
        "## **1-Install Dependencies**"
      ]
    },
    {
      "cell_type": "code",
      "metadata": {
        "colab": {
          "base_uri": "https://localhost:8080/"
        },
        "id": "Ko9NP5RytNRE",
        "outputId": "779e780d-f615-4d32-ff33-c86115ca9d08"
      },
      "source": [
        "!echo \"deb [arch=amd64] http://storage.googleapis.com/tensorflow-serving-apt stable tensorflow-model-server tensorflow-model-server-universal\" | sudo tee /etc/apt/sources.list.d/tensorflow-serving.list && curl https://storage.googleapis.com/tensorflow-serving-apt/tensorflow-serving.release.pub.gpg | sudo apt-key add -"
      ],
      "execution_count": 5,
      "outputs": [
        {
          "output_type": "stream",
          "text": [
            "deb [arch=amd64] http://storage.googleapis.com/tensorflow-serving-apt stable tensorflow-model-server tensorflow-model-server-universal\n",
            "  % Total    % Received % Xferd  Average Speed   Time    Time     Time  Current\n",
            "                                 Dload  Upload   Total   Spent    Left  Speed\n",
            "\r  0     0    0     0    0     0      0      0 --:--:-- --:--:-- --:--:--     0\r100  2943  100  2943    0     0   169k      0 --:--:-- --:--:-- --:--:--  169k\n",
            "OK\n"
          ],
          "name": "stdout"
        }
      ]
    },
    {
      "cell_type": "code",
      "metadata": {
        "id": "zMyT0ofqTJ-y"
      },
      "source": [
        ""
      ],
      "execution_count": null,
      "outputs": []
    },
    {
      "cell_type": "markdown",
      "metadata": {
        "id": "cxNzfAvlTlDR"
      },
      "source": [
        "# 2-Install Tensorflow server"
      ]
    },
    {
      "cell_type": "code",
      "metadata": {
        "colab": {
          "base_uri": "https://localhost:8080/"
        },
        "id": "T8PbWpzUtanF",
        "outputId": "302854a2-54c7-4a81-c917-ba799ff1e45d"
      },
      "source": [
        "!apt-get install tensorflow-model-server"
      ],
      "execution_count": 9,
      "outputs": [
        {
          "output_type": "stream",
          "text": [
            "Reading package lists... Done\n",
            "Building dependency tree       \n",
            "Reading state information... Done\n",
            "The following NEW packages will be installed:\n",
            "  tensorflow-model-server\n",
            "0 upgraded, 1 newly installed, 0 to remove and 47 not upgraded.\n",
            "Need to get 326 MB of archives.\n",
            "After this operation, 0 B of additional disk space will be used.\n",
            "Get:1 http://storage.googleapis.com/tensorflow-serving-apt stable/tensorflow-model-server amd64 tensorflow-model-server all 2.5.1 [326 MB]\n",
            "Fetched 326 MB in 4s (80.2 MB/s)\n",
            "Selecting previously unselected package tensorflow-model-server.\n",
            "(Reading database ... 160772 files and directories currently installed.)\n",
            "Preparing to unpack .../tensorflow-model-server_2.5.1_all.deb ...\n",
            "Unpacking tensorflow-model-server (2.5.1) ...\n",
            "Setting up tensorflow-model-server (2.5.1) ...\n"
          ],
          "name": "stdout"
        }
      ]
    },
    {
      "cell_type": "code",
      "metadata": {
        "colab": {
          "base_uri": "https://localhost:8080/"
        },
        "id": "sidA_WTrta56",
        "outputId": "96f08007-db2e-4386-94bf-1ed2442d4d96"
      },
      "source": [
        "!pip install requests"
      ],
      "execution_count": 10,
      "outputs": [
        {
          "output_type": "stream",
          "text": [
            "Requirement already satisfied: requests in /usr/local/lib/python3.7/dist-packages (2.23.0)\n",
            "Requirement already satisfied: urllib3!=1.25.0,!=1.25.1,<1.26,>=1.21.1 in /usr/local/lib/python3.7/dist-packages (from requests) (1.24.3)\n",
            "Requirement already satisfied: idna<3,>=2.5 in /usr/local/lib/python3.7/dist-packages (from requests) (2.10)\n",
            "Requirement already satisfied: certifi>=2017.4.17 in /usr/local/lib/python3.7/dist-packages (from requests) (2021.5.30)\n",
            "Requirement already satisfied: chardet<4,>=3.0.2 in /usr/local/lib/python3.7/dist-packages (from requests) (3.0.4)\n"
          ],
          "name": "stdout"
        }
      ]
    },
    {
      "cell_type": "markdown",
      "metadata": {
        "id": "WNnMl3KBUJ3U"
      },
      "source": [
        "# 3-Install Libraries"
      ]
    },
    {
      "cell_type": "code",
      "metadata": {
        "id": "xpxhk6j6ta8t",
        "colab": {
          "base_uri": "https://localhost:8080/",
          "height": 36
        },
        "outputId": "12242ade-2074-4fd3-f0cd-ff6d444b74fe"
      },
      "source": [
        "import os\n",
        "import json\n",
        "import random\n",
        "import requests\n",
        "import subprocess\n",
        "import numpy as np\n",
        "import tensorflow as tf\n",
        "import matplotlib.pyplot as plt\n",
        "from tensorflow.keras.datasets import cifar10\n",
        "%matplotlib inline\n",
        "tf.__version__"
      ],
      "execution_count": 11,
      "outputs": [
        {
          "output_type": "execute_result",
          "data": {
            "application/vnd.google.colaboratory.intrinsic+json": {
              "type": "string"
            },
            "text/plain": [
              "'1.14.0'"
            ]
          },
          "metadata": {
            "tags": []
          },
          "execution_count": 11
        }
      ]
    },
    {
      "cell_type": "markdown",
      "metadata": {
        "id": "UC5DQIycUU8-"
      },
      "source": [
        "# **4-Import dataset**"
      ]
    },
    {
      "cell_type": "code",
      "metadata": {
        "id": "lTvaHtiCta_V"
      },
      "source": [
        "(X_train,y_train),(X_test,y_test)=cifar10.load_data()"
      ],
      "execution_count": 12,
      "outputs": []
    },
    {
      "cell_type": "code",
      "metadata": {
        "id": "MvBfWyx6tbBk"
      },
      "source": [
        "class_names=[\"airplane\",\"automobile\",\"bird\",\"cat\",\"deer\",\"dog\",\"frog\",\"horse\",\"ship\",\"truck\"]"
      ],
      "execution_count": 13,
      "outputs": []
    },
    {
      "cell_type": "markdown",
      "metadata": {
        "id": "lKwPTVs_UjsB"
      },
      "source": [
        "# **5-Normalize the images**"
      ]
    },
    {
      "cell_type": "code",
      "metadata": {
        "id": "Ivl7fb0aQKNQ"
      },
      "source": [
        "X_train=X_train/255.0\n",
        "X_test=X_test/255.0"
      ],
      "execution_count": 14,
      "outputs": []
    },
    {
      "cell_type": "code",
      "metadata": {
        "colab": {
          "base_uri": "https://localhost:8080/"
        },
        "id": "eY8cUmr5QKQe",
        "outputId": "e589bb0d-1cfe-42f4-fcce-c9e26f03a77e"
      },
      "source": [
        "X_train.shape"
      ],
      "execution_count": 15,
      "outputs": [
        {
          "output_type": "execute_result",
          "data": {
            "text/plain": [
              "(50000, 32, 32, 3)"
            ]
          },
          "metadata": {
            "tags": []
          },
          "execution_count": 15
        }
      ]
    },
    {
      "cell_type": "code",
      "metadata": {
        "colab": {
          "base_uri": "https://localhost:8080/"
        },
        "id": "VIE5-NIaQKUS",
        "outputId": "3243815b-0de1-4472-aebc-c5fd15db8ed9"
      },
      "source": [
        "X_test.shape"
      ],
      "execution_count": 16,
      "outputs": [
        {
          "output_type": "execute_result",
          "data": {
            "text/plain": [
              "(10000, 32, 32, 3)"
            ]
          },
          "metadata": {
            "tags": []
          },
          "execution_count": 16
        }
      ]
    },
    {
      "cell_type": "markdown",
      "metadata": {
        "id": "nwpt0DJeUrY6"
      },
      "source": [
        "# **6-CNN Model Building**"
      ]
    },
    {
      "cell_type": "code",
      "metadata": {
        "colab": {
          "base_uri": "https://localhost:8080/"
        },
        "id": "bjaEMdVuRY2q",
        "outputId": "36075944-5b8c-4966-90a2-6379b4a1b32a"
      },
      "source": [
        "model = tf.keras.models.Sequential()\n",
        "model.add(tf.keras.layers.Conv2D(filters=32, kernel_size=3, padding=\"same\", activation=\"relu\", input_shape=[32, 32, 3]))\n",
        "model.add(tf.keras.layers.Conv2D(filters=32, kernel_size=3, padding=\"same\", activation=\"relu\"))\n",
        "model.add(tf.keras.layers.MaxPool2D(pool_size=2, strides=2, padding='valid'))\n",
        "model.add(tf.keras.layers.Conv2D(filters=64, kernel_size=3, padding=\"same\", activation=\"relu\"))\n",
        "model.add(tf.keras.layers.Conv2D(filters=64, kernel_size=3, padding=\"same\", activation=\"relu\"))\n",
        "model.add(tf.keras.layers.MaxPool2D(pool_size=2, strides=2, padding='valid'))\n",
        "model.add(tf.keras.layers.Flatten())\n",
        "model.add(tf.keras.layers.Dense(units=128, activation='relu'))\n",
        "model.add(tf.keras.layers.Dense(units=10, activation='softmax'))"
      ],
      "execution_count": 17,
      "outputs": [
        {
          "output_type": "stream",
          "text": [
            "WARNING:tensorflow:From /usr/local/lib/python3.7/dist-packages/tensorflow/python/ops/init_ops.py:1251: calling VarianceScaling.__init__ (from tensorflow.python.ops.init_ops) with dtype is deprecated and will be removed in a future version.\n",
            "Instructions for updating:\n",
            "Call initializer instance with the dtype argument instead of passing it to the constructor\n"
          ],
          "name": "stdout"
        }
      ]
    },
    {
      "cell_type": "markdown",
      "metadata": {
        "id": "6Zyz5MW3UwkD"
      },
      "source": [
        "# **7-Compile the model**"
      ]
    },
    {
      "cell_type": "code",
      "metadata": {
        "id": "MVmh0wT9RY5d"
      },
      "source": [
        "model.compile(optimizer='Adam', \n",
        "              loss='sparse_categorical_crossentropy', \n",
        "              metrics=['sparse_categorical_accuracy'])"
      ],
      "execution_count": 18,
      "outputs": []
    },
    {
      "cell_type": "markdown",
      "metadata": {
        "id": "IuCeq8cCU3-g"
      },
      "source": [
        "# **8-Train the model**"
      ]
    },
    {
      "cell_type": "code",
      "metadata": {
        "colab": {
          "base_uri": "https://localhost:8080/"
        },
        "id": "OcST_AHFQKXG",
        "outputId": "efd39871-d685-4f52-8fac-61919fab01c4"
      },
      "source": [
        "model.fit(X_train, \n",
        "          y_train, \n",
        "          batch_size=128, \n",
        "          epochs=3)"
      ],
      "execution_count": 20,
      "outputs": [
        {
          "output_type": "stream",
          "text": [
            "Epoch 1/3\n",
            "50000/50000 [==============================] - 191s 4ms/sample - loss: 1.2758 - sparse_categorical_accuracy: 0.5473\n",
            "Epoch 2/3\n",
            "50000/50000 [==============================] - 188s 4ms/sample - loss: 0.9789 - sparse_categorical_accuracy: 0.6580\n",
            "Epoch 3/3\n",
            "50000/50000 [==============================] - 188s 4ms/sample - loss: 0.8271 - sparse_categorical_accuracy: 0.7109\n"
          ],
          "name": "stdout"
        },
        {
          "output_type": "execute_result",
          "data": {
            "text/plain": [
              "<tensorflow.python.keras.callbacks.History at 0x7fcc396da4d0>"
            ]
          },
          "metadata": {
            "tags": []
          },
          "execution_count": 20
        }
      ]
    },
    {
      "cell_type": "markdown",
      "metadata": {
        "id": "CoGuT4eIVD4g"
      },
      "source": [
        "# **9-Evaluate the model**"
      ]
    },
    {
      "cell_type": "code",
      "metadata": {
        "colab": {
          "base_uri": "https://localhost:8080/"
        },
        "id": "sH67VLKBSQ1B",
        "outputId": "7ae22136-2be5-4cb7-feb1-46657785f062"
      },
      "source": [
        "test_loss, test_accuracy = model.evaluate(X_test, y_test)"
      ],
      "execution_count": 21,
      "outputs": [
        {
          "output_type": "stream",
          "text": [
            "10000/10000 [==============================] - 10s 974us/sample - loss: 0.8591 - sparse_categorical_accuracy: 0.7000\n"
          ],
          "name": "stdout"
        }
      ]
    },
    {
      "cell_type": "code",
      "metadata": {
        "colab": {
          "base_uri": "https://localhost:8080/"
        },
        "id": "Q4WXqWMhSRCS",
        "outputId": "ed1abe97-7d49-4e6c-e04c-fce1128bcd68"
      },
      "source": [
        "print(\"Test accuracy is {}\".format(test_accuracy))"
      ],
      "execution_count": 22,
      "outputs": [
        {
          "output_type": "stream",
          "text": [
            "Test accuracy is 0.699999988079071\n"
          ],
          "name": "stdout"
        }
      ]
    },
    {
      "cell_type": "code",
      "metadata": {
        "id": "Fngc9_-nSRFn"
      },
      "source": [
        "MODEL_DIR=\"model/\"\n",
        "version = 1"
      ],
      "execution_count": 23,
      "outputs": []
    },
    {
      "cell_type": "markdown",
      "metadata": {
        "id": "50m-pI5YXXbu"
      },
      "source": [
        "# **10-Create directory for the model**"
      ]
    },
    {
      "cell_type": "code",
      "metadata": {
        "colab": {
          "base_uri": "https://localhost:8080/",
          "height": 36
        },
        "id": "_Kwoudm0SRIk",
        "outputId": "9bd886a5-f6de-4ac3-d476-8c87ef7df96d"
      },
      "source": [
        "export_path=os.path.join(MODEL_DIR,str(version))\n",
        "export_path"
      ],
      "execution_count": 24,
      "outputs": [
        {
          "output_type": "execute_result",
          "data": {
            "application/vnd.google.colaboratory.intrinsic+json": {
              "type": "string"
            },
            "text/plain": [
              "'model/1'"
            ]
          },
          "metadata": {
            "tags": []
          },
          "execution_count": 24
        }
      ]
    },
    {
      "cell_type": "code",
      "metadata": {
        "id": "UVKMeCONSRLT"
      },
      "source": [
        "if os.path.isdir(export_path):\n",
        "  !rm -r {export_path}"
      ],
      "execution_count": 25,
      "outputs": []
    },
    {
      "cell_type": "markdown",
      "metadata": {
        "id": "TQR3XXKFXd_8"
      },
      "source": [
        "# **11-Save the model for Tensorflow serving**"
      ]
    },
    {
      "cell_type": "code",
      "metadata": {
        "colab": {
          "base_uri": "https://localhost:8080/"
        },
        "id": "vmD5h_VLSRZ3",
        "outputId": "060a640d-8d27-4490-e008-7ea5b08b41e1"
      },
      "source": [
        "\n",
        "tf.saved_model.simple_save(tf.keras.backend.get_session(),export_dir=export_path,inputs={\"input_image\":model.input},outputs={t.name:t for t in model.outputs})"
      ],
      "execution_count": 27,
      "outputs": [
        {
          "output_type": "stream",
          "text": [
            "WARNING:tensorflow:From <ipython-input-27-ad87cb9bd883>:2: simple_save (from tensorflow.python.saved_model.simple_save) is deprecated and will be removed in a future version.\n",
            "Instructions for updating:\n",
            "This function will only be available through the v1 compatibility library as tf.compat.v1.saved_model.simple_save.\n",
            "WARNING:tensorflow:From /usr/local/lib/python3.7/dist-packages/tensorflow/python/saved_model/signature_def_utils_impl.py:201: build_tensor_info (from tensorflow.python.saved_model.utils_impl) is deprecated and will be removed in a future version.\n",
            "Instructions for updating:\n",
            "This function will only be available through the v1 compatibility library as tf.compat.v1.saved_model.utils.build_tensor_info or tf.compat.v1.saved_model.build_tensor_info.\n",
            "INFO:tensorflow:Assets added to graph.\n",
            "INFO:tensorflow:No assets to write.\n",
            "INFO:tensorflow:SavedModel written to: model/1/saved_model.pb\n"
          ],
          "name": "stdout"
        }
      ]
    },
    {
      "cell_type": "markdown",
      "metadata": {
        "id": "cj5FWcjOnkUd"
      },
      "source": [
        "# **12-Export the MODEL DIR to environnment variables**"
      ]
    },
    {
      "cell_type": "code",
      "metadata": {
        "id": "kKL3mEe2tbIj"
      },
      "source": [
        "os.environ[\"MODEL_DIR\"]=os.path.abspath(MODEL_DIR)"
      ],
      "execution_count": 28,
      "outputs": []
    },
    {
      "cell_type": "markdown",
      "metadata": {
        "id": "jr6sFbNwn1wd"
      },
      "source": [
        "# **13-Running Tensorflow REST API**"
      ]
    },
    {
      "cell_type": "code",
      "metadata": {
        "colab": {
          "base_uri": "https://localhost:8080/"
        },
        "id": "w_EL5g5wjCn1",
        "outputId": "8cc41569-a6f4-4724-d71e-7539405dce02"
      },
      "source": [
        "%%bash --bg\n",
        "nohup tensorflow_model_server --rest_api_port=8501 --model_name=cifar10 --model_base_path=\"${MODEL_DIR}\">server.log 2>&1"
      ],
      "execution_count": 29,
      "outputs": [
        {
          "output_type": "stream",
          "text": [
            "Starting job # 0 in a separate thread.\n"
          ],
          "name": "stdout"
        }
      ]
    },
    {
      "cell_type": "code",
      "metadata": {
        "colab": {
          "base_uri": "https://localhost:8080/"
        },
        "id": "53cuhQKllPPL",
        "outputId": "27b687a3-18b7-41d7-f007-03b00ae4f371"
      },
      "source": [
        "! tail server.log"
      ],
      "execution_count": 30,
      "outputs": [
        {
          "output_type": "stream",
          "text": [
            "2021-06-20 03:02:38.303387: I external/org_tensorflow/tensorflow/core/platform/profile_utils/cpu_utils.cc:114] CPU Frequency: 2000189999 Hz\n",
            "2021-06-20 03:02:38.329404: I external/org_tensorflow/tensorflow/cc/saved_model/loader.cc:277] SavedModel load for tags { serve }; Status: success: OK. Took 49423 microseconds.\n",
            "2021-06-20 03:02:38.330109: I tensorflow_serving/servables/tensorflow/saved_model_warmup_util.cc:59] No warmup data file found at /content/model/1/assets.extra/tf_serving_warmup_requests\n",
            "2021-06-20 03:02:38.330207: I tensorflow_serving/core/loader_harness.cc:87] Successfully loaded servable version {name: cifar10 version: 1}\n",
            "2021-06-20 03:02:38.330753: I tensorflow_serving/model_servers/server_core.cc:486] Finished adding/updating models\n",
            "2021-06-20 03:02:38.330810: I tensorflow_serving/model_servers/server.cc:367] Profiler service is enabled\n",
            "2021-06-20 03:02:38.331321: I tensorflow_serving/model_servers/server.cc:393] Running gRPC ModelServer at 0.0.0.0:8500 ...\n",
            "[warn] getaddrinfo: address family for nodename not supported\n",
            "2021-06-20 03:02:38.331822: I tensorflow_serving/model_servers/server.cc:414] Exporting HTTP/REST API at:localhost:8501 ...\n",
            "[evhttp_server.cc : 245] NET_LOG: Entering the event loop ...\n"
          ],
          "name": "stdout"
        }
      ]
    },
    {
      "cell_type": "markdown",
      "metadata": {
        "id": "HR5aONizoGIe"
      },
      "source": [
        "# **14-Create JSON data objet**"
      ]
    },
    {
      "cell_type": "code",
      "metadata": {
        "colab": {
          "base_uri": "https://localhost:8080/"
        },
        "id": "y3y0YSqolPWx",
        "outputId": "84cd3ffb-06ab-44b2-95c3-c641548f310e"
      },
      "source": [
        "random_image=np.random.randint(0,len(X_test))\n",
        "random_image"
      ],
      "execution_count": 31,
      "outputs": [
        {
          "output_type": "execute_result",
          "data": {
            "text/plain": [
              "4610"
            ]
          },
          "metadata": {
            "tags": []
          },
          "execution_count": 31
        }
      ]
    },
    {
      "cell_type": "code",
      "metadata": {
        "id": "qjQPdFv8lPfq"
      },
      "source": [
        "data=json.dumps({\"signature_name\":\"serving_default\",\"instances\":[X_test[random_image].tolist()]})"
      ],
      "execution_count": 32,
      "outputs": []
    },
    {
      "cell_type": "code",
      "metadata": {
        "colab": {
          "base_uri": "https://localhost:8080/",
          "height": 159
        },
        "id": "vmaDL5FghTSF",
        "outputId": "4e001c84-7196-4873-b7dd-168a85d0d5fe"
      },
      "source": [
        "data"
      ],
      "execution_count": 33,
      "outputs": [
        {
          "output_type": "execute_result",
          "data": {
            "application/vnd.google.colaboratory.intrinsic+json": {
              "type": "string"
            },
            "text/plain": [
              "'{\"signature_name\": \"serving_default\", \"instances\": [[[[0.5372549019607843, 0.43529411764705883, 0.3686274509803922], [0.5058823529411764, 0.4235294117647059, 0.3215686274509804], [0.5372549019607843, 0.4627450980392157, 0.3686274509803922], [0.5372549019607843, 0.44313725490196076, 0.35294117647058826], [0.49019607843137253, 0.40784313725490196, 0.3333333333333333], [0.4745098039215686, 0.4196078431372549, 0.37254901960784315], [0.5372549019607843, 0.4666666666666667, 0.43529411764705883], [0.5568627450980392, 0.4823529411764706, 0.4235294117647059], [0.5176470588235295, 0.45098039215686275, 0.3843137254901961], [0.5254901960784314, 0.45098039215686275, 0.403921568627451], [0.5725490196078431, 0.4980392156862745, 0.42745098039215684], [0.6235294117647059, 0.5450980392156862, 0.47058823529411764], [0.596078431372549, 0.5098039215686274, 0.4588235294117647], [0.5647058823529412, 0.4823529411764706, 0.4196078431372549], [0.5137254901960784, 0.43137254901960786, 0.3568627450980392], [0.4980392156862745, 0.4196078431372549, 0.3215686274509804], [0.47843137254901963, 0.4, 0.27058823529411763], [0.4745098039215686, 0.39215686274509803, 0.2901960784313726], [0.5725490196078431, 0.4823529411764706, 0.4235294117647059], [0.5764705882352941, 0.4823529411764706, 0.4470588235294118], [0.47843137254901963, 0.36470588235294116, 0.3176470588235294], [0.45098039215686275, 0.3215686274509804, 0.25882352941176473], [0.5333333333333333, 0.4196078431372549, 0.35294117647058826], [0.5725490196078431, 0.49411764705882355, 0.4392156862745098], [0.5568627450980392, 0.4823529411764706, 0.42745098039215684], [0.5294117647058824, 0.44313725490196076, 0.3803921568627451], [0.5647058823529412, 0.4627450980392157, 0.4], [0.6313725490196078, 0.5176470588235295, 0.4588235294117647], [0.5882352941176471, 0.49411764705882355, 0.43137254901960786], [0.5725490196078431, 0.49019607843137253, 0.4235294117647059], [0.5725490196078431, 0.49019607843137253, 0.4235294117647059], [0.5333333333333333, 0.45098039215686275, 0.3843137254901961]], [[0.5647058823529412, 0.4549019607843137, 0.42745098039215684], [0.5137254901960784, 0.44313725490196076, 0.3686274509803922], [0.5294117647058824, 0.47058823529411764, 0.3686274509803922], [0.5176470588235295, 0.4470588235294118, 0.34901960784313724], [0.49019607843137253, 0.4235294117647059, 0.36470588235294116], [0.48627450980392156, 0.43529411764705883, 0.4], [0.5411764705882353, 0.4745098039215686, 0.4196078431372549], [0.5372549019607843, 0.4549019607843137, 0.3607843137254902], [0.5333333333333333, 0.4470588235294118, 0.35294117647058826], [0.5568627450980392, 0.4745098039215686, 0.40784313725490196], [0.5686274509803921, 0.4980392156862745, 0.4235294117647059], [0.5882352941176471, 0.5176470588235295, 0.44313725490196076], [0.5647058823529412, 0.4823529411764706, 0.4235294117647059], [0.5411764705882353, 0.4588235294117647, 0.38823529411764707], [0.4588235294117647, 0.3803921568627451, 0.29411764705882354], [0.41568627450980394, 0.33725490196078434, 0.23921568627450981], [0.43529411764705883, 0.3607843137254902, 0.24313725490196078], [0.4470588235294118, 0.3686274509803922, 0.27058823529411763], [0.5529411764705883, 0.47058823529411764, 0.40784313725490196], [0.5803921568627451, 0.49019607843137253, 0.45098039215686275], [0.5254901960784314, 0.42745098039215684, 0.4], [0.48627450980392156, 0.37254901960784315, 0.30980392156862746], [0.5529411764705883, 0.42745098039215684, 0.3568627450980392], [0.596078431372549, 0.49019607843137253, 0.4392156862745098], [0.5294117647058824, 0.4470588235294118, 0.3803921568627451], [0.4470588235294118, 0.3764705882352941, 0.3058823529411765], [0.5137254901960784, 0.42745098039215684, 0.37254901960784315], [0.6392156862745098, 0.5254901960784314, 0.4666666666666667], [0.5803921568627451, 0.47843137254901963, 0.41568627450980394], [0.5490196078431373, 0.4666666666666667, 0.4], [0.596078431372549, 0.5137254901960784, 0.4470588235294118], [0.5529411764705883, 0.47058823529411764, 0.403921568627451]], [[0.5294117647058824, 0.4666666666666667, 0.43137254901960786], [0.5254901960784314, 0.47843137254901963, 0.4470588235294118], [0.5254901960784314, 0.4549019607843137, 0.396078431372549], [0.49019607843137253, 0.42745098039215684, 0.32941176470588235], [0.4745098039215686, 0.4117647058823529, 0.32941176470588235], [0.5294117647058824, 0.43137254901960786, 0.33725490196078434], [0.6, 0.4392156862745098, 0.26666666666666666], [0.5843137254901961, 0.43137254901960786, 0.18823529411764706], [0.5843137254901961, 0.4666666666666667, 0.2627450980392157], [0.592156862745098, 0.47843137254901963, 0.3764705882352941], [0.592156862745098, 0.4980392156862745, 0.4666666666666667], [0.5607843137254902, 0.47843137254901963, 0.4470588235294118], [0.5254901960784314, 0.44313725490196076, 0.37254901960784315], [0.49411764705882355, 0.4117647058823529, 0.32941176470588235], [0.41568627450980394, 0.33725490196078434, 0.24313725490196078], [0.396078431372549, 0.3137254901960784, 0.2196078431372549], [0.4470588235294118, 0.3568627450980392, 0.2784313725490196], [0.4823529411764706, 0.3843137254901961, 0.3254901960784314], [0.5843137254901961, 0.48627450980392156, 0.44313725490196076], [0.5803921568627451, 0.47843137254901963, 0.4549019607843137], [0.6078431372549019, 0.5019607843137255, 0.4588235294117647], [0.6, 0.4666666666666667, 0.35294117647058826], [0.6352941176470588, 0.4666666666666667, 0.3137254901960784], [0.6745098039215687, 0.5019607843137255, 0.3686274509803922], [0.615686274509804, 0.4823529411764706, 0.35294117647058826], [0.5568627450980392, 0.4666666666666667, 0.3607843137254902], [0.5450980392156862, 0.4627450980392157, 0.4], [0.6470588235294118, 0.5333333333333333, 0.4745098039215686], [0.6, 0.49411764705882355, 0.43137254901960786], [0.5568627450980392, 0.4745098039215686, 0.40784313725490196], [0.6, 0.5176470588235295, 0.45098039215686275], [0.5803921568627451, 0.4980392156862745, 0.43137254901960786]], [[0.5215686274509804, 0.4627450980392157, 0.40784313725490196], [0.5607843137254902, 0.47058823529411764, 0.39215686274509803], [0.6196078431372549, 0.4549019607843137, 0.28627450980392155], [0.6392156862745098, 0.4549019607843137, 0.21568627450980393], [0.6, 0.43137254901960786, 0.21568627450980393], [0.6352941176470588, 0.4549019607843137, 0.25882352941176473], [0.7215686274509804, 0.5137254901960784, 0.23137254901960785], [0.7372549019607844, 0.5372549019607843, 0.21568627450980393], [0.7176470588235294, 0.5411764705882353, 0.2980392156862745], [0.6196078431372549, 0.47058823529411764, 0.3333333333333333], [0.6, 0.48627450980392156, 0.4196078431372549], [0.5686274509803921, 0.47843137254901963, 0.42745098039215684], [0.5176470588235295, 0.43529411764705883, 0.36470588235294116], [0.48627450980392156, 0.40784313725490196, 0.3137254901960784], [0.47843137254901963, 0.403921568627451, 0.30196078431372547], [0.4549019607843137, 0.37254901960784315, 0.26666666666666666], [0.5254901960784314, 0.4117647058823529, 0.3058823529411765], [0.5725490196078431, 0.45098039215686275, 0.3568627450980392], [0.611764705882353, 0.49019607843137253, 0.403921568627451], [0.6, 0.4745098039215686, 0.4], [0.611764705882353, 0.4745098039215686, 0.3803921568627451], [0.6392156862745098, 0.4588235294117647, 0.24705882352941178], [0.7019607843137254, 0.47058823529411764, 0.16470588235294117], [0.7647058823529411, 0.5137254901960784, 0.21176470588235294], [0.7176470588235294, 0.5098039215686274, 0.27450980392156865], [0.6274509803921569, 0.49411764705882355, 0.3411764705882353], [0.596078431372549, 0.5058823529411764, 0.42745098039215684], [0.6509803921568628, 0.5411764705882353, 0.49019607843137253], [0.611764705882353, 0.5058823529411764, 0.4470588235294118], [0.592156862745098, 0.5098039215686274, 0.44313725490196076], [0.6, 0.5176470588235295, 0.4549019607843137], [0.596078431372549, 0.5137254901960784, 0.4470588235294118]], [[0.5647058823529412, 0.4588235294117647, 0.39215686274509803], [0.6549019607843137, 0.47058823529411764, 0.2823529411764706], [0.807843137254902, 0.5098039215686274, 0.12156862745098039], [0.9215686274509803, 0.5725490196078431, 0.11764705882352941], [0.8745098039215686, 0.5686274509803921, 0.2], [0.7686274509803922, 0.5294117647058824, 0.22745098039215686], [0.7294117647058823, 0.5372549019607843, 0.20784313725490197], [0.7647058823529411, 0.5490196078431373, 0.24313725490196078], [0.8470588235294118, 0.6078431372549019, 0.3803921568627451], [0.7450980392156863, 0.5450980392156862, 0.35294117647058826], [0.615686274509804, 0.4627450980392157, 0.28627450980392155], [0.5686274509803921, 0.4549019607843137, 0.3058823529411765], [0.5411764705882353, 0.4470588235294118, 0.3411764705882353], [0.5058823529411764, 0.41568627450980394, 0.3333333333333333], [0.5098039215686274, 0.42745098039215684, 0.3254901960784314], [0.5333333333333333, 0.4392156862745098, 0.28627450980392155], [0.6, 0.4549019607843137, 0.26666666666666666], [0.6235294117647059, 0.4745098039215686, 0.28627450980392155], [0.6078431372549019, 0.4666666666666667, 0.28627450980392155], [0.5725490196078431, 0.4392156862745098, 0.26666666666666666], [0.5647058823529412, 0.403921568627451, 0.23529411764705882], [0.6745098039215687, 0.4549019607843137, 0.16470588235294117], [0.7764705882352941, 0.49019607843137253, 0.07450980392156863], [0.792156862745098, 0.4745098039215686, 0.043137254901960784], [0.7803921568627451, 0.5019607843137255, 0.1607843137254902], [0.7058823529411765, 0.5098039215686274, 0.29411764705882354], [0.6313725490196078, 0.5137254901960784, 0.403921568627451], [0.6313725490196078, 0.5215686274509804, 0.47058823529411764], [0.6, 0.4980392156862745, 0.45098039215686275], [0.5647058823529412, 0.4823529411764706, 0.41568627450980394], [0.5803921568627451, 0.4980392156862745, 0.42745098039215684], [0.5647058823529412, 0.4823529411764706, 0.4117647058823529]], [[0.5725490196078431, 0.4470588235294118, 0.35294117647058826], [0.7803921568627451, 0.5019607843137255, 0.2627450980392157], [0.9294117647058824, 0.5529411764705883, 0.09803921568627451], [0.9803921568627451, 0.615686274509804, 0.12156862745098039], [0.9803921568627451, 0.6745098039215687, 0.25098039215686274], [0.8627450980392157, 0.596078431372549, 0.17647058823529413], [0.7803921568627451, 0.5372549019607843, 0.13333333333333333], [0.8156862745098039, 0.5372549019607843, 0.22745098039215686], [0.9137254901960784, 0.6, 0.27450980392156865], [0.9176470588235294, 0.615686274509804, 0.21176470588235294], [0.8509803921568627, 0.5725490196078431, 0.19215686274509805], [0.7568627450980392, 0.5058823529411764, 0.19215686274509805], [0.6862745098039216, 0.47843137254901963, 0.23137254901960785], [0.6039215686274509, 0.44313725490196076, 0.2784313725490196], [0.6078431372549019, 0.4588235294117647, 0.2784313725490196], [0.7254901960784313, 0.5411764705882353, 0.2901960784313726], [0.7764705882352941, 0.5294117647058824, 0.27450980392156865], [0.7803921568627451, 0.5490196078431373, 0.3137254901960784], [0.6235294117647059, 0.4588235294117647, 0.24705882352941178], [0.4117647058823529, 0.30980392156862746, 0.11372549019607843], [0.48627450980392156, 0.34509803921568627, 0.13333333333333333], [0.6823529411764706, 0.4549019607843137, 0.15294117647058825], [0.792156862745098, 0.47843137254901963, 0.0784313725490196], [0.7843137254901961, 0.43137254901960786, 0.00784313725490196], [0.8313725490196079, 0.4823529411764706, 0.03529411764705882], [0.8156862745098039, 0.5098039215686274, 0.12941176470588237], [0.7372549019607844, 0.5215686274509804, 0.2549019607843137], [0.6627450980392157, 0.5254901960784314, 0.4235294117647059], [0.6078431372549019, 0.5019607843137255, 0.49411764705882355], [0.5686274509803921, 0.4745098039215686, 0.42745098039215684], [0.596078431372549, 0.5019607843137255, 0.4235294117647059], [0.5882352941176471, 0.48627450980392156, 0.4117647058823529]], [[0.6039215686274509, 0.4588235294117647, 0.34901960784313724], [0.8392156862745098, 0.5019607843137255, 0.2823529411764706], [0.9568627450980393, 0.5607843137254902, 0.21176470588235294], [0.9607843137254902, 0.6078431372549019, 0.19607843137254902], [0.9254901960784314, 0.596078431372549, 0.20392156862745098], [0.8901960784313725, 0.592156862745098, 0.14901960784313725], [0.8901960784313725, 0.5843137254901961, 0.12549019607843137], [0.9019607843137255, 0.5764705882352941, 0.19215686274509805], [0.9372549019607843, 0.6039215686274509, 0.1450980392156863], [0.9568627450980393, 0.615686274509804, 0.07058823529411765], [0.9411764705882353, 0.6078431372549019, 0.10980392156862745], [0.9215686274509803, 0.592156862745098, 0.1607843137254902], [0.8705882352941177, 0.5568627450980392, 0.17254901960784313], [0.7686274509803922, 0.5176470588235295, 0.17647058823529413], [0.7490196078431373, 0.5019607843137255, 0.1843137254901961], [0.803921568627451, 0.5215686274509804, 0.20392156862745098], [0.8666666666666667, 0.5882352941176471, 0.2823529411764706], [0.8823529411764706, 0.6274509803921569, 0.38823529411764707], [0.6352941176470588, 0.44313725490196076, 0.28627450980392155], [0.3333333333333333, 0.21176470588235294, 0.10588235294117647], [0.4235294117647059, 0.28627450980392155, 0.1450980392156863], [0.6627450980392157, 0.4549019607843137, 0.13333333333333333], [0.796078431372549, 0.5019607843137255, 0.06666666666666667], [0.8, 0.44313725490196076, 0.06274509803921569], [0.8549019607843137, 0.47843137254901963, 0.050980392156862744], [0.8901960784313725, 0.5333333333333333, 0.07450980392156863], [0.8313725490196079, 0.5490196078431373, 0.12941176470588237], [0.7490196078431373, 0.5372549019607843, 0.3058823529411765], [0.6509803921568628, 0.5019607843137255, 0.4392156862745098], [0.611764705882353, 0.5019607843137255, 0.4588235294117647], [0.6392156862745098, 0.5294117647058824, 0.48627450980392156], [0.6196078431372549, 0.5215686274509804, 0.4549019607843137]], [[0.6470588235294118, 0.47843137254901963, 0.3686274509803922], [0.8862745098039215, 0.5254901960784314, 0.28627450980392155], [0.9490196078431372, 0.5686274509803921, 0.2549019607843137], [0.9058823529411765, 0.5803921568627451, 0.2627450980392157], [0.796078431372549, 0.47843137254901963, 0.1843137254901961], [0.803921568627451, 0.5098039215686274, 0.13725490196078433], [0.8705882352941177, 0.5607843137254902, 0.12549019607843137], [0.9333333333333333, 0.6039215686274509, 0.12941176470588237], [0.9529411764705882, 0.6274509803921569, 0.023529411764705882], [0.9607843137254902, 0.6196078431372549, 0.03529411764705882], [0.9294117647058824, 0.5764705882352941, 0.12941176470588237], [0.9529411764705882, 0.592156862745098, 0.13333333333333333], [0.9686274509803922, 0.611764705882353, 0.10980392156862745], [0.9254901960784314, 0.6039215686274509, 0.1568627450980392], [0.8666666666666667, 0.5411764705882353, 0.13333333333333333], [0.803921568627451, 0.4745098039215686, 0.07450980392156863], [0.792156862745098, 0.5215686274509804, 0.17254901960784313], [0.7647058823529411, 0.5137254901960784, 0.25098039215686274], [0.5450980392156862, 0.3333333333333333, 0.1450980392156863], [0.3686274509803922, 0.19215686274509805, 0.06274509803921569], [0.36470588235294116, 0.2, 0.07450980392156863], [0.611764705882353, 0.4117647058823529, 0.10196078431372549], [0.788235294117647, 0.5176470588235295, 0.09803921568627451], [0.8, 0.4549019607843137, 0.10196078431372549], [0.8274509803921568, 0.4470588235294118, 0.07058823529411765], [0.8980392156862745, 0.5254901960784314, 0.054901960784313725], [0.9098039215686274, 0.5725490196078431, 0.0392156862745098], [0.8549019607843137, 0.5490196078431373, 0.1450980392156863], [0.7490196078431373, 0.5333333333333333, 0.33725490196078434], [0.6392156862745098, 0.49411764705882355, 0.4196078431372549], [0.6470588235294118, 0.5098039215686274, 0.5098039215686274], [0.611764705882353, 0.5176470588235295, 0.4627450980392157]], [[0.6039215686274509, 0.4588235294117647, 0.3607843137254902], [0.8549019607843137, 0.5372549019607843, 0.2627450980392157], [0.9294117647058824, 0.596078431372549, 0.21176470588235294], [0.7843137254901961, 0.5019607843137255, 0.23137254901960785], [0.6588235294117647, 0.39215686274509803, 0.23137254901960785], [0.7098039215686275, 0.4666666666666667, 0.21568627450980393], [0.8196078431372549, 0.5647058823529412, 0.22745098039215686], [0.9176470588235294, 0.6, 0.2196078431372549], [0.9725490196078431, 0.6352941176470588, 0.08627450980392157], [0.9490196078431372, 0.615686274509804, 0.08235294117647059], [0.9450980392156862, 0.5882352941176471, 0.14901960784313725], [0.9607843137254902, 0.6039215686274509, 0.11764705882352941], [0.9411764705882353, 0.6, 0.09411764705882353], [0.9333333333333333, 0.6196078431372549, 0.06666666666666667], [0.9333333333333333, 0.611764705882353, 0.12549019607843137], [0.8784313725490196, 0.5411764705882353, 0.1607843137254902], [0.796078431372549, 0.4980392156862745, 0.13725490196078433], [0.7568627450980392, 0.48627450980392156, 0.1568627450980392], [0.7137254901960784, 0.4666666666666667, 0.13725490196078433], [0.6901960784313725, 0.4588235294117647, 0.10196078431372549], [0.6392156862745098, 0.43529411764705883, 0.09411764705882353], [0.6509803921568628, 0.42745098039215684, 0.12156862745098039], [0.7450980392156863, 0.4745098039215686, 0.1568627450980392], [0.8, 0.49411764705882355, 0.11764705882352941], [0.7803921568627451, 0.42745098039215684, 0.0392156862745098], [0.8352941176470589, 0.45098039215686275, 0.023529411764705882], [0.9176470588235294, 0.5450980392156862, 0.0], [0.9372549019607843, 0.5725490196078431, 0.050980392156862744], [0.8392156862745098, 0.5607843137254902, 0.2196078431372549], [0.7137254901960784, 0.5137254901960784, 0.3333333333333333], [0.6627450980392157, 0.49411764705882355, 0.43529411764705883], [0.6352941176470588, 0.5254901960784314, 0.4627450980392157]], [[0.5333333333333333, 0.44313725490196076, 0.37254901960784315], [0.7372549019607844, 0.5019607843137255, 0.29411764705882354], [0.8784313725490196, 0.5647058823529412, 0.23529411764705882], [0.7411764705882353, 0.4470588235294118, 0.21176470588235294], [0.5607843137254902, 0.29411764705882354, 0.19215686274509805], [0.6078431372549019, 0.37254901960784315, 0.21176470588235294], [0.792156862745098, 0.5647058823529412, 0.32941176470588235], [0.9137254901960784, 0.611764705882353, 0.26666666666666666], [0.9607843137254902, 0.6431372549019608, 0.050980392156862744], [0.9647058823529412, 0.6666666666666666, 0.15294117647058825], [0.9529411764705882, 0.6078431372549019, 0.24313725490196078], [0.9686274509803922, 0.6313725490196078, 0.13333333333333333], [0.9647058823529412, 0.6392156862745098, 0.11764705882352941], [0.9215686274509803, 0.5882352941176471, 0.10588235294117647], [0.9254901960784314, 0.5882352941176471, 0.10588235294117647], [0.9098039215686274, 0.5764705882352941, 0.08627450980392157], [0.8470588235294118, 0.5294117647058824, 0.09803921568627451], [0.8117647058823529, 0.5098039215686274, 0.12156862745098039], [0.803921568627451, 0.4980392156862745, 0.10588235294117647], [0.8901960784313725, 0.5725490196078431, 0.10980392156862745], [0.9490196078431372, 0.6784313725490196, 0.12941176470588237], [0.8862745098039215, 0.6352941176470588, 0.19607843137254902], [0.7764705882352941, 0.5176470588235295, 0.16862745098039217], [0.7529411764705882, 0.47843137254901963, 0.09803921568627451], [0.788235294117647, 0.4627450980392157, 0.058823529411764705], [0.8, 0.4235294117647059, 0.0392156862745098], [0.9215686274509803, 0.5333333333333333, 0.050980392156862744], [0.9725490196078431, 0.6039215686274509, 0.03529411764705882], [0.8941176470588236, 0.5803921568627451, 0.12156862745098039], [0.8196078431372549, 0.5647058823529412, 0.24705882352941178], [0.7333333333333333, 0.5333333333333333, 0.34901960784313724], [0.6705882352941176, 0.5333333333333333, 0.4470588235294118]], [[0.4627450980392157, 0.4196078431372549, 0.3568627450980392], [0.6235294117647059, 0.4627450980392157, 0.3686274509803922], [0.796078431372549, 0.49411764705882355, 0.32941176470588235], [0.803921568627451, 0.4745098039215686, 0.28627450980392155], [0.5607843137254902, 0.2549019607843137, 0.13725490196078433], [0.5529411764705883, 0.2901960784313726, 0.1568627450980392], [0.7686274509803922, 0.5137254901960784, 0.3176470588235294], [0.9294117647058824, 0.6235294117647059, 0.30980392156862746], [0.9568627450980393, 0.6509803921568628, 0.09411764705882353], [0.9686274509803922, 0.6862745098039216, 0.19215686274509805], [0.9686274509803922, 0.6509803921568628, 0.23137254901960785], [0.9647058823529412, 0.6392156862745098, 0.06666666666666667], [0.9647058823529412, 0.611764705882353, 0.07058823529411765], [0.9647058823529412, 0.592156862745098, 0.10980392156862745], [0.9490196078431372, 0.5803921568627451, 0.08627450980392157], [0.9058823529411765, 0.5568627450980392, 0.023529411764705882], [0.8274509803921568, 0.4980392156862745, 0.011764705882352941], [0.8, 0.47058823529411764, 0.06666666666666667], [0.8431372549019608, 0.48627450980392156, 0.12156862745098039], [0.9294117647058824, 0.5450980392156862, 0.13333333333333333], [0.9686274509803922, 0.6392156862745098, 0.050980392156862744], [0.9568627450980393, 0.6862745098039216, 0.09411764705882353], [0.9254901960784314, 0.6823529411764706, 0.21176470588235294], [0.8156862745098039, 0.5568627450980392, 0.21176470588235294], [0.8156862745098039, 0.5137254901960784, 0.1411764705882353], [0.803921568627451, 0.4470588235294118, 0.10196078431372549], [0.9098039215686274, 0.5294117647058824, 0.13725490196078433], [0.9686274509803922, 0.6078431372549019, 0.06274509803921569], [0.9372549019607843, 0.6039215686274509, 0.06666666666666667], [0.8901960784313725, 0.596078431372549, 0.1568627450980392], [0.803921568627451, 0.5725490196078431, 0.27058823529411763], [0.6862745098039216, 0.5294117647058824, 0.40784313725490196]], [[0.4235294117647059, 0.3803921568627451, 0.2901960784313726], [0.49019607843137253, 0.4, 0.30196078431372547], [0.6627450980392157, 0.4588235294117647, 0.3333333333333333], [0.792156862745098, 0.5058823529411764, 0.34901960784313724], [0.6431372549019608, 0.35294117647058826, 0.2], [0.6588235294117647, 0.3764705882352941, 0.21176470588235294], [0.8156862745098039, 0.5098039215686274, 0.2901960784313726], [0.9019607843137255, 0.5764705882352941, 0.2784313725490196], [0.9686274509803922, 0.6392156862745098, 0.23921568627450981], [0.9725490196078431, 0.6274509803921569, 0.23137254901960785], [0.9490196078431372, 0.611764705882353, 0.13725490196078433], [0.9725490196078431, 0.6431372549019608, 0.047058823529411764], [0.9607843137254902, 0.5882352941176471, 0.03137254901960784], [0.9725490196078431, 0.6, 0.054901960784313725], [0.9568627450980393, 0.5843137254901961, 0.0784313725490196], [0.8745098039215686, 0.5176470588235295, 0.050980392156862744], [0.807843137254902, 0.48627450980392156, 0.043137254901960784], [0.8352941176470589, 0.4823529411764706, 0.08235294117647059], [0.8980392156862745, 0.5294117647058824, 0.10588235294117647], [0.9411764705882353, 0.5725490196078431, 0.1450980392156863], [0.9725490196078431, 0.6392156862745098, 0.09411764705882353], [0.9450980392156862, 0.6549019607843137, 0.058823529411764705], [0.9411764705882353, 0.6745098039215687, 0.1607843137254902], [0.9411764705882353, 0.6823529411764706, 0.3176470588235294], [0.8627450980392157, 0.5843137254901961, 0.2549019607843137], [0.792156862745098, 0.4745098039215686, 0.16470588235294117], [0.807843137254902, 0.45098039215686275, 0.11764705882352941], [0.9294117647058824, 0.5647058823529412, 0.09411764705882353], [0.9647058823529412, 0.6352941176470588, 0.07058823529411765], [0.9176470588235294, 0.6, 0.10196078431372549], [0.8470588235294118, 0.5686274509803921, 0.20784313725490197], [0.7294117647058823, 0.5450980392156862, 0.3568627450980392]], [[0.39215686274509803, 0.35294117647058826, 0.25098039215686274], [0.38823529411764707, 0.33725490196078434, 0.2235294117647059], [0.5019607843137255, 0.37254901960784315, 0.23921568627450981], [0.7098039215686275, 0.5019607843137255, 0.3254901960784314], [0.7725490196078432, 0.5019607843137255, 0.2784313725490196], [0.7725490196078432, 0.4627450980392157, 0.19607843137254902], [0.8196078431372549, 0.5098039215686274, 0.2235294117647059], [0.8745098039215686, 0.5647058823529412, 0.23921568627450981], [0.9490196078431372, 0.615686274509804, 0.2196078431372549], [0.9725490196078431, 0.611764705882353, 0.23529411764705882], [0.9372549019607843, 0.5686274509803921, 0.2196078431372549], [0.9647058823529412, 0.615686274509804, 0.19607843137254902], [0.9647058823529412, 0.611764705882353, 0.13333333333333333], [0.9568627450980393, 0.611764705882353, 0.08627450980392157], [0.9529411764705882, 0.6078431372549019, 0.050980392156862744], [0.8823529411764706, 0.5411764705882353, 0.00784313725490196], [0.8549019607843137, 0.5098039215686274, 0.054901960784313725], [0.8862745098039215, 0.5058823529411764, 0.07058823529411765], [0.9450980392156862, 0.5647058823529412, 0.058823529411764705], [0.9725490196078431, 0.6078431372549019, 0.10196078431372549], [0.9803921568627451, 0.6588235294117647, 0.10588235294117647], [0.9882352941176471, 0.7098039215686275, 0.10588235294117647], [0.9411764705882353, 0.6549019607843137, 0.09019607843137255], [0.9254901960784314, 0.6431372549019608, 0.19607843137254902], [0.9450980392156862, 0.6588235294117647, 0.26666666666666666], [0.9019607843137255, 0.5843137254901961, 0.23137254901960785], [0.7764705882352941, 0.4235294117647059, 0.10196078431372549], [0.8431372549019608, 0.48627450980392156, 0.10980392156862745], [0.996078431372549, 0.6745098039215687, 0.19607843137254902], [0.9529411764705882, 0.6196078431372549, 0.13333333333333333], [0.8862745098039215, 0.5764705882352941, 0.12549019607843137], [0.8117647058823529, 0.5764705882352941, 0.28627450980392155]], [[0.3686274509803922, 0.3333333333333333, 0.23137254901960785], [0.37254901960784315, 0.33725490196078434, 0.22745098039215686], [0.4, 0.32941176470588235, 0.2], [0.5607843137254902, 0.42745098039215684, 0.2627450980392157], [0.8, 0.5607843137254902, 0.3137254901960784], [0.8470588235294118, 0.5215686274509804, 0.2], [0.8, 0.4980392156862745, 0.19215686274509805], [0.8117647058823529, 0.5176470588235295, 0.2196078431372549], [0.8823529411764706, 0.5529411764705883, 0.1411764705882353], [0.9254901960784314, 0.5725490196078431, 0.13725490196078433], [0.9254901960784314, 0.5490196078431373, 0.23529411764705882], [0.9450980392156862, 0.5882352941176471, 0.2901960784313726], [0.9568627450980393, 0.6313725490196078, 0.23921568627450981], [0.9490196078431372, 0.6274509803921569, 0.1607843137254902], [0.9294117647058824, 0.6039215686274509, 0.08627450980392157], [0.8823529411764706, 0.5529411764705883, 0.0392156862745098], [0.8705882352941177, 0.5333333333333333, 0.09019607843137255], [0.8901960784313725, 0.5215686274509804, 0.09019607843137255], [0.9647058823529412, 0.611764705882353, 0.08235294117647059], [0.984313725490196, 0.6549019607843137, 0.12156862745098039], [0.9647058823529412, 0.6431372549019608, 0.12549019607843137], [0.9882352941176471, 0.6901960784313725, 0.11372549019607843], [0.984313725490196, 0.6862745098039216, 0.10980392156862745], [0.9568627450980393, 0.6431372549019608, 0.15294117647058825], [0.9490196078431372, 0.6235294117647059, 0.1568627450980392], [0.9764705882352941, 0.6470588235294118, 0.2196078431372549], [0.8666666666666667, 0.5176470588235295, 0.17254901960784313], [0.7372549019607844, 0.3803921568627451, 0.09411764705882353], [0.9529411764705882, 0.6274509803921569, 0.2549019607843137], [0.9921568627450981, 0.6745098039215687, 0.1843137254901961], [0.9215686274509803, 0.6039215686274509, 0.047058823529411764], [0.8823529411764706, 0.6, 0.16470588235294117]], [[0.3803921568627451, 0.33725490196078434, 0.23921568627450981], [0.3764705882352941, 0.33725490196078434, 0.23921568627450981], [0.39215686274509803, 0.3411764705882353, 0.2235294117647059], [0.4235294117647059, 0.3411764705882353, 0.2196078431372549], [0.6235294117647059, 0.43529411764705883, 0.2549019607843137], [0.8196078431372549, 0.5294117647058824, 0.26666666666666666], [0.7686274509803922, 0.48627450980392156, 0.23529411764705882], [0.7607843137254902, 0.4666666666666667, 0.22745098039215686], [0.8392156862745098, 0.5058823529411764, 0.11764705882352941], [0.8901960784313725, 0.5450980392156862, 0.047058823529411764], [0.8862745098039215, 0.5294117647058824, 0.10196078431372549], [0.8745098039215686, 0.5333333333333333, 0.14901960784313725], [0.8784313725490196, 0.5568627450980392, 0.1568627450980392], [0.9058823529411765, 0.5882352941176471, 0.17254901960784313], [0.9411764705882353, 0.6196078431372549, 0.23137254901960785], [0.8980392156862745, 0.5803921568627451, 0.21176470588235294], [0.8392156862745098, 0.5490196078431373, 0.17647058823529413], [0.8705882352941177, 0.5607843137254902, 0.1843137254901961], [0.9647058823529412, 0.6862745098039216, 0.21568627450980393], [0.9764705882352941, 0.7254901960784313, 0.2549019607843137], [0.9568627450980393, 0.6470588235294118, 0.2196078431372549], [0.9686274509803922, 0.6509803921568628, 0.1568627450980392], [0.9803921568627451, 0.6627450980392157, 0.1450980392156863], [0.9803921568627451, 0.6470588235294118, 0.19215686274509805], [0.9607843137254902, 0.6196078431372549, 0.15294117647058825], [0.9450980392156862, 0.6, 0.13725490196078433], [0.9333333333333333, 0.5843137254901961, 0.2], [0.7411764705882353, 0.3803921568627451, 0.11372549019607843], [0.7843137254901961, 0.43529411764705883, 0.11372549019607843], [0.9647058823529412, 0.6431372549019608, 0.16470588235294117], [0.9490196078431372, 0.6470588235294118, 0.06274509803921569], [0.9254901960784314, 0.6352941176470588, 0.12156862745098039]], [[0.396078431372549, 0.3411764705882353, 0.24705882352941178], [0.3843137254901961, 0.3176470588235294, 0.23921568627450981], [0.4, 0.32941176470588235, 0.23529411764705882], [0.3607843137254902, 0.2980392156862745, 0.19215686274509805], [0.4196078431372549, 0.3058823529411765, 0.16862745098039217], [0.6509803921568628, 0.4470588235294118, 0.2549019607843137], [0.7568627450980392, 0.4980392156862745, 0.2784313725490196], [0.7803921568627451, 0.4745098039215686, 0.23921568627450981], [0.8274509803921568, 0.49411764705882355, 0.11372549019607843], [0.8509803921568627, 0.5019607843137255, 0.011764705882352941], [0.8627450980392157, 0.5098039215686274, 0.043137254901960784], [0.8627450980392157, 0.5176470588235295, 0.058823529411764705], [0.8745098039215686, 0.5254901960784314, 0.0784313725490196], [0.8588235294117647, 0.5294117647058824, 0.09803921568627451], [0.8588235294117647, 0.5529411764705883, 0.1803921568627451], [0.8823529411764706, 0.592156862745098, 0.2549019607843137], [0.8509803921568627, 0.5647058823529412, 0.23137254901960785], [0.8705882352941177, 0.5686274509803921, 0.24313725490196078], [0.9647058823529412, 0.7019607843137254, 0.2980392156862745], [0.9882352941176471, 0.7607843137254902, 0.36470588235294116], [0.9764705882352941, 0.7058823529411765, 0.3137254901960784], [0.9647058823529412, 0.6666666666666666, 0.19215686274509805], [0.9725490196078431, 0.6549019607843137, 0.15294117647058825], [0.9647058823529412, 0.615686274509804, 0.18823529411764706], [0.9764705882352941, 0.6274509803921569, 0.21176470588235294], [0.9607843137254902, 0.6235294117647059, 0.16862745098039217], [0.9333333333333333, 0.5803921568627451, 0.1607843137254902], [0.8588235294117647, 0.48627450980392156, 0.1803921568627451], [0.6745098039215687, 0.3137254901960784, 0.027450980392156862], [0.8549019607843137, 0.5294117647058824, 0.1568627450980392], [0.9921568627450981, 0.7098039215686275, 0.22745098039215686], [0.9686274509803922, 0.7019607843137254, 0.24705882352941178]], [[0.396078431372549, 0.33725490196078434, 0.24313725490196078], [0.40784313725490196, 0.3215686274509804, 0.24705882352941178], [0.396078431372549, 0.2980392156862745, 0.20392156862745098], [0.3215686274509804, 0.24313725490196078, 0.11372549019607843], [0.30980392156862746, 0.23921568627450981, 0.10196078431372549], [0.43137254901960786, 0.30980392156862746, 0.14901960784313725], [0.6392156862745098, 0.43137254901960786, 0.2196078431372549], [0.792156862745098, 0.4980392156862745, 0.25098039215686274], [0.8313725490196079, 0.5058823529411764, 0.1607843137254902], [0.8117647058823529, 0.47843137254901963, 0.07058823529411765], [0.8196078431372549, 0.4823529411764706, 0.08235294117647059], [0.8313725490196079, 0.48627450980392156, 0.058823529411764705], [0.8392156862745098, 0.48627450980392156, 0.027450980392156862], [0.803921568627451, 0.47843137254901963, 0.0196078431372549], [0.7490196078431373, 0.4627450980392157, 0.027450980392156862], [0.803921568627451, 0.5294117647058824, 0.11764705882352941], [0.8666666666666667, 0.5607843137254902, 0.21176470588235294], [0.8392156862745098, 0.5137254901960784, 0.19215686274509805], [0.8862745098039215, 0.5843137254901961, 0.2196078431372549], [0.9372549019607843, 0.6666666666666666, 0.2980392156862745], [0.9803921568627451, 0.7176470588235294, 0.3058823529411765], [0.984313725490196, 0.7294117647058823, 0.25882352941176473], [0.9803921568627451, 0.6980392156862745, 0.2196078431372549], [0.9607843137254902, 0.6313725490196078, 0.19215686274509805], [0.9490196078431372, 0.6, 0.19215686274509805], [0.9568627450980393, 0.6, 0.1607843137254902], [0.9647058823529412, 0.6, 0.1568627450980392], [0.9490196078431372, 0.5686274509803921, 0.21568627450980393], [0.7372549019607844, 0.3803921568627451, 0.09019607843137255], [0.6941176470588235, 0.39215686274509803, 0.1411764705882353], [0.9254901960784314, 0.6901960784313725, 0.396078431372549], [0.9294117647058824, 0.7058823529411765, 0.396078431372549]], [[0.4117647058823529, 0.3607843137254902, 0.2627450980392157], [0.3843137254901961, 0.3137254901960784, 0.21176470588235294], [0.3607843137254902, 0.2549019607843137, 0.11764705882352941], [0.3176470588235294, 0.2, 0.047058823529411764], [0.3333333333333333, 0.24313725490196078, 0.10588235294117647], [0.3411764705882353, 0.2549019607843137, 0.12941176470588237], [0.4235294117647059, 0.30196078431372547, 0.14901960784313725], [0.6666666666666666, 0.4392156862745098, 0.25098039215686274], [0.807843137254902, 0.5137254901960784, 0.26666666666666666], [0.7843137254901961, 0.5019607843137255, 0.18823529411764706], [0.7725490196078432, 0.4823529411764706, 0.1450980392156863], [0.8, 0.5019607843137255, 0.14901960784313725], [0.7490196078431373, 0.4549019607843137, 0.058823529411764705], [0.7254901960784313, 0.44313725490196076, 0.011764705882352941], [0.7333333333333333, 0.45098039215686275, 0.01568627450980392], [0.7450980392156863, 0.4627450980392157, 0.050980392156862744], [0.7803921568627451, 0.49411764705882355, 0.11764705882352941], [0.7803921568627451, 0.47843137254901963, 0.12156862745098039], [0.8235294117647058, 0.5137254901960784, 0.15294117647058825], [0.8666666666666667, 0.5450980392156862, 0.16862745098039217], [0.9333333333333333, 0.6078431372549019, 0.1843137254901961], [0.9490196078431372, 0.6862745098039216, 0.30980392156862746], [0.9568627450980393, 0.7137254901960784, 0.3607843137254902], [0.9686274509803922, 0.6823529411764706, 0.25882352941176473], [0.9686274509803922, 0.6274509803921569, 0.14901960784313725], [0.9686274509803922, 0.592156862745098, 0.09019607843137255], [0.9490196078431372, 0.5647058823529412, 0.08627450980392157], [0.9607843137254902, 0.596078431372549, 0.1843137254901961], [0.8901960784313725, 0.5686274509803921, 0.21176470588235294], [0.6470588235294118, 0.4, 0.2], [0.7019607843137254, 0.5411764705882353, 0.3843137254901961], [0.7725490196078432, 0.6078431372549019, 0.4117647058823529]], [[0.4745098039215686, 0.41568627450980394, 0.3333333333333333], [0.38823529411764707, 0.3176470588235294, 0.2196078431372549], [0.34509803921568627, 0.23529411764705882, 0.11372549019607843], [0.3137254901960784, 0.19607843137254902, 0.054901960784313725], [0.3764705882352941, 0.28627450980392155, 0.1607843137254902], [0.32941176470588235, 0.25098039215686274, 0.13725490196078433], [0.3254901960784314, 0.23137254901960785, 0.10588235294117647], [0.5058823529411764, 0.34901960784313724, 0.19607843137254902], [0.7137254901960784, 0.47058823529411764, 0.23921568627450981], [0.7686274509803922, 0.47058823529411764, 0.15294117647058825], [0.7450980392156863, 0.4549019607843137, 0.13333333333333333], [0.6823529411764706, 0.43137254901960786, 0.1450980392156863], [0.6274509803921569, 0.39215686274509803, 0.0784313725490196], [0.6352941176470588, 0.396078431372549, 0.0392156862745098], [0.6745098039215687, 0.42745098039215684, 0.06274509803921569], [0.7019607843137254, 0.44313725490196076, 0.08235294117647059], [0.7294117647058823, 0.4549019607843137, 0.06274509803921569], [0.7529411764705882, 0.4627450980392157, 0.06666666666666667], [0.8196078431372549, 0.5058823529411764, 0.10980392156862745], [0.8588235294117647, 0.5254901960784314, 0.12156862745098039], [0.8549019607843137, 0.5176470588235295, 0.11764705882352941], [0.8470588235294118, 0.5450980392156862, 0.2235294117647059], [0.8980392156862745, 0.6078431372549019, 0.2901960784313726], [0.9647058823529412, 0.6588235294117647, 0.24313725490196078], [0.984313725490196, 0.6549019607843137, 0.16862745098039217], [0.9647058823529412, 0.6, 0.09019607843137255], [0.8901960784313725, 0.5254901960784314, 0.03137254901960784], [0.8941176470588236, 0.5529411764705883, 0.09019607843137255], [0.9490196078431372, 0.6431372549019608, 0.25882352941176473], [0.7137254901960784, 0.47843137254901963, 0.30196078431372547], [0.6, 0.4549019607843137, 0.37254901960784315], [0.6235294117647059, 0.4823529411764706, 0.38823529411764707]], [[0.49411764705882355, 0.4196078431372549, 0.35294117647058826], [0.4666666666666667, 0.38823529411764707, 0.3137254901960784], [0.4235294117647059, 0.30980392156862746, 0.21176470588235294], [0.34901960784313724, 0.24313725490196078, 0.12156862745098039], [0.4, 0.3137254901960784, 0.19215686274509805], [0.37254901960784315, 0.2901960784313726, 0.16862745098039217], [0.3176470588235294, 0.22745098039215686, 0.10588235294117647], [0.40784313725490196, 0.3058823529411765, 0.1607843137254902], [0.6627450980392157, 0.4549019607843137, 0.21176470588235294], [0.807843137254902, 0.47843137254901963, 0.13333333333333333], [0.7843137254901961, 0.4823529411764706, 0.17254901960784313], [0.592156862745098, 0.3843137254901961, 0.1568627450980392], [0.5450980392156862, 0.37254901960784315, 0.15294117647058825], [0.5529411764705883, 0.3686274509803922, 0.11764705882352941], [0.5725490196078431, 0.3764705882352941, 0.10196078431372549], [0.6078431372549019, 0.39215686274509803, 0.10980392156862745], [0.6431372549019608, 0.403921568627451, 0.09019607843137255], [0.6745098039215687, 0.41568627450980394, 0.07058823529411765], [0.7372549019607844, 0.45098039215686275, 0.09019607843137255], [0.788235294117647, 0.4745098039215686, 0.11372549019607843], [0.7529411764705882, 0.43137254901960786, 0.08627450980392157], [0.7019607843137254, 0.3843137254901961, 0.08627450980392157], [0.7725490196078432, 0.4392156862745098, 0.09803921568627451], [0.9098039215686274, 0.5411764705882353, 0.10980392156862745], [0.9411764705882353, 0.5803921568627451, 0.1411764705882353], [0.9490196078431372, 0.592156862745098, 0.1803921568627451], [0.9411764705882353, 0.592156862745098, 0.1803921568627451], [0.9019607843137255, 0.5725490196078431, 0.13725490196078433], [0.9215686274509803, 0.6196078431372549, 0.20784313725490197], [0.7607843137254902, 0.5294117647058824, 0.27058823529411763], [0.5686274509803921, 0.4196078431372549, 0.3215686274509804], [0.5607843137254902, 0.43529411764705883, 0.3764705882352941]], [[0.42745098039215684, 0.33725490196078434, 0.26666666666666666], [0.5019607843137255, 0.41568627450980394, 0.34509803921568627], [0.5411764705882353, 0.43137254901960786, 0.3411764705882353], [0.43529411764705883, 0.32941176470588235, 0.21568627450980393], [0.45098039215686275, 0.35294117647058826, 0.2196078431372549], [0.4823529411764706, 0.37254901960784315, 0.23921568627450981], [0.3215686274509804, 0.2196078431372549, 0.09411764705882353], [0.40784313725490196, 0.3058823529411765, 0.15294117647058825], [0.7215686274509804, 0.5098039215686274, 0.2627450980392157], [0.8901960784313725, 0.5490196078431373, 0.2235294117647059], [0.8627450980392157, 0.5568627450980392, 0.2627450980392157], [0.6235294117647059, 0.44313725490196076, 0.24705882352941178], [0.4745098039215686, 0.3568627450980392, 0.21176470588235294], [0.49019607843137253, 0.34901960784313724, 0.19215686274509805], [0.5333333333333333, 0.37254901960784315, 0.17254901960784313], [0.5529411764705883, 0.3686274509803922, 0.14901960784313725], [0.5686274509803921, 0.36470588235294116, 0.1450980392156863], [0.611764705882353, 0.38823529411764707, 0.10196078431372549], [0.6980392156862745, 0.4392156862745098, 0.12156862745098039], [0.7529411764705882, 0.4549019607843137, 0.1450980392156863], [0.8156862745098039, 0.49019607843137253, 0.11764705882352941], [0.8235294117647058, 0.48627450980392156, 0.09019607843137255], [0.8470588235294118, 0.49019607843137253, 0.06274509803921569], [0.9254901960784314, 0.5372549019607843, 0.054901960784313725], [0.9607843137254902, 0.596078431372549, 0.07450980392156863], [0.9529411764705882, 0.615686274509804, 0.11764705882352941], [0.9882352941176471, 0.6666666666666666, 0.1803921568627451], [0.984313725490196, 0.6666666666666666, 0.12549019607843137], [0.9725490196078431, 0.6745098039215687, 0.12941176470588237], [0.9215686274509803, 0.6862745098039216, 0.27450980392156865], [0.7098039215686275, 0.5490196078431373, 0.36470588235294116], [0.5607843137254902, 0.4470588235294118, 0.3607843137254902]], [[0.36470588235294116, 0.2627450980392157, 0.16862745098039217], [0.47058823529411764, 0.3843137254901961, 0.2980392156862745], [0.5647058823529412, 0.4588235294117647, 0.3568627450980392], [0.5607843137254902, 0.4549019607843137, 0.3254901960784314], [0.5294117647058824, 0.403921568627451, 0.25098039215686274], [0.6039215686274509, 0.4627450980392157, 0.30196078431372547], [0.3607843137254902, 0.24705882352941178, 0.10588235294117647], [0.49411764705882355, 0.34509803921568627, 0.17647058823529413], [0.8117647058823529, 0.5529411764705883, 0.3215686274509804], [0.9176470588235294, 0.5843137254901961, 0.3137254901960784], [0.9294117647058824, 0.6196078431372549, 0.35294117647058826], [0.5764705882352941, 0.39215686274509803, 0.19215686274509805], [0.2784313725490196, 0.19215686274509805, 0.08627450980392157], [0.3058823529411765, 0.19215686274509805, 0.08235294117647059], [0.34901960784313724, 0.20392156862745098, 0.06666666666666667], [0.4627450980392157, 0.29411764705882354, 0.10980392156862745], [0.6039215686274509, 0.3764705882352941, 0.12941176470588237], [0.7333333333333333, 0.4823529411764706, 0.13333333333333333], [0.8156862745098039, 0.5176470588235295, 0.12941176470588237], [0.8352941176470589, 0.4980392156862745, 0.11764705882352941], [0.8509803921568627, 0.5098039215686274, 0.06274509803921569], [0.9019607843137255, 0.5490196078431373, 0.054901960784313725], [0.9647058823529412, 0.592156862745098, 0.06666666666666667], [0.984313725490196, 0.6078431372549019, 0.058823529411764705], [0.996078431372549, 0.6352941176470588, 0.023529411764705882], [0.984313725490196, 0.6431372549019608, 0.050980392156862744], [0.9725490196078431, 0.6509803921568628, 0.09411764705882353], [0.9686274509803922, 0.6392156862745098, 0.027450980392156862], [0.9686274509803922, 0.6509803921568628, 0.023529411764705882], [0.9882352941176471, 0.7333333333333333, 0.2], [0.8509803921568627, 0.6627450980392157, 0.4196078431372549], [0.5686274509803921, 0.44313725490196076, 0.35294117647058826]], [[0.4117647058823529, 0.3176470588235294, 0.2196078431372549], [0.4549019607843137, 0.3686274509803922, 0.2784313725490196], [0.49411764705882355, 0.396078431372549, 0.30196078431372547], [0.5372549019607843, 0.42745098039215684, 0.3058823529411765], [0.6039215686274509, 0.4666666666666667, 0.30980392156862746], [0.6549019607843137, 0.49411764705882355, 0.3058823529411765], [0.5490196078431373, 0.396078431372549, 0.2196078431372549], [0.6274509803921569, 0.43529411764705883, 0.24313725490196078], [0.8509803921568627, 0.5764705882352941, 0.33725490196078434], [0.9176470588235294, 0.6039215686274509, 0.3411764705882353], [0.9333333333333333, 0.6392156862745098, 0.37254901960784315], [0.6392156862745098, 0.4549019607843137, 0.25098039215686274], [0.3333333333333333, 0.2549019607843137, 0.15294117647058825], [0.27058823529411763, 0.17254901960784313, 0.07058823529411765], [0.3215686274509804, 0.17254901960784313, 0.00392156862745098], [0.592156862745098, 0.3764705882352941, 0.09803921568627451], [0.7568627450980392, 0.47058823529411764, 0.11372549019607843], [0.807843137254902, 0.49019607843137253, 0.058823529411764705], [0.8705882352941177, 0.5176470588235295, 0.023529411764705882], [0.9098039215686274, 0.5333333333333333, 0.0392156862745098], [0.9176470588235294, 0.5568627450980392, 0.03137254901960784], [0.9450980392156862, 0.5843137254901961, 0.03137254901960784], [0.9764705882352941, 0.6039215686274509, 0.06666666666666667], [0.9803921568627451, 0.611764705882353, 0.07450980392156863], [0.9764705882352941, 0.6, 0.054901960784313725], [0.9372549019607843, 0.5764705882352941, 0.12156862745098039], [0.9098039215686274, 0.5764705882352941, 0.15294117647058825], [0.9450980392156862, 0.6039215686274509, 0.09411764705882353], [0.9803921568627451, 0.6313725490196078, 0.058823529411764705], [0.9372549019607843, 0.6431372549019608, 0.14901960784313725], [0.8352941176470589, 0.6352941176470588, 0.41568627450980394], [0.592156862745098, 0.4666666666666667, 0.4]], [[0.5176470588235295, 0.4392156862745098, 0.36470588235294116], [0.48627450980392156, 0.40784313725490196, 0.33725490196078434], [0.47843137254901963, 0.4, 0.3254901960784314], [0.47058823529411764, 0.3803921568627451, 0.2901960784313726], [0.5137254901960784, 0.39215686274509803, 0.24705882352941178], [0.615686274509804, 0.4588235294117647, 0.25098039215686274], [0.6470588235294118, 0.45098039215686275, 0.23529411764705882], [0.7137254901960784, 0.5019607843137255, 0.2823529411764706], [0.8549019607843137, 0.5803921568627451, 0.3215686274509804], [0.9019607843137255, 0.5764705882352941, 0.2823529411764706], [0.9058823529411765, 0.6196078431372549, 0.34509803921568627], [0.6431372549019608, 0.4627450980392157, 0.27058823529411763], [0.3215686274509804, 0.23137254901960785, 0.11372549019607843], [0.3058823529411765, 0.19607843137254902, 0.047058823529411764], [0.5843137254901961, 0.3764705882352941, 0.06666666666666667], [0.8274509803921568, 0.5176470588235295, 0.07058823529411765], [0.8156862745098039, 0.47843137254901963, 0.06666666666666667], [0.8352941176470589, 0.4745098039215686, 0.043137254901960784], [0.8901960784313725, 0.5254901960784314, 0.00784313725490196], [0.9215686274509803, 0.5607843137254902, 0.050980392156862744], [0.9450980392156862, 0.5843137254901961, 0.050980392156862744], [0.9529411764705882, 0.6, 0.047058823529411764], [0.9607843137254902, 0.6, 0.13725490196078433], [0.9411764705882353, 0.5803921568627451, 0.15294117647058825], [0.9098039215686274, 0.5411764705882353, 0.10980392156862745], [0.8627450980392157, 0.5058823529411764, 0.1843137254901961], [0.8941176470588236, 0.5725490196078431, 0.23921568627450981], [0.9411764705882353, 0.6235294117647059, 0.16470588235294117], [0.9372549019607843, 0.5725490196078431, 0.10980392156862745], [0.8823529411764706, 0.5686274509803921, 0.22745098039215686], [0.7568627450980392, 0.5764705882352941, 0.4196078431372549], [0.5647058823529412, 0.4666666666666667, 0.396078431372549]], [[0.5529411764705883, 0.47843137254901963, 0.4117647058823529], [0.5333333333333333, 0.4588235294117647, 0.39215686274509803], [0.5215686274509804, 0.4470588235294118, 0.3803921568627451], [0.48627450980392156, 0.4, 0.3176470588235294], [0.41568627450980394, 0.3058823529411765, 0.17647058823529413], [0.5607843137254902, 0.41568627450980394, 0.22745098039215686], [0.6274509803921569, 0.44313725490196076, 0.23529411764705882], [0.7137254901960784, 0.4823529411764706, 0.27450980392156865], [0.8196078431372549, 0.5176470588235295, 0.27450980392156865], [0.8784313725490196, 0.5254901960784314, 0.24313725490196078], [0.9372549019607843, 0.6196078431372549, 0.36470588235294116], [0.611764705882353, 0.4196078431372549, 0.23921568627450981], [0.2784313725490196, 0.17254901960784313, 0.0196078431372549], [0.5294117647058824, 0.3333333333333333, 0.058823529411764705], [0.792156862745098, 0.5019607843137255, 0.0784313725490196], [0.8352941176470589, 0.49411764705882355, 0.01568627450980392], [0.8509803921568627, 0.49411764705882355, 0.054901960784313725], [0.8980392156862745, 0.5215686274509804, 0.08627450980392157], [0.9098039215686274, 0.5450980392156862, 0.054901960784313725], [0.8980392156862745, 0.5529411764705883, 0.11372549019607843], [0.9137254901960784, 0.5686274509803921, 0.12549019607843137], [0.9254901960784314, 0.596078431372549, 0.09019607843137255], [0.8941176470588236, 0.5647058823529412, 0.14901960784313725], [0.8588235294117647, 0.5176470588235295, 0.2], [0.9058823529411765, 0.5490196078431373, 0.24313725490196078], [0.9215686274509803, 0.5764705882352941, 0.3176470588235294], [0.9176470588235294, 0.6, 0.28627450980392155], [0.9254901960784314, 0.6, 0.22745098039215686], [0.8862745098039215, 0.5568627450980392, 0.21176470588235294], [0.8509803921568627, 0.6, 0.35294117647058826], [0.5882352941176471, 0.4392156862745098, 0.3215686274509804], [0.45098039215686275, 0.3607843137254902, 0.29411764705882354]], [[0.5450980392156862, 0.47058823529411764, 0.403921568627451], [0.5333333333333333, 0.4588235294117647, 0.39215686274509803], [0.5254901960784314, 0.45098039215686275, 0.3843137254901961], [0.5019607843137255, 0.4235294117647059, 0.34509803921568627], [0.4235294117647059, 0.3254901960784314, 0.21568627450980393], [0.4588235294117647, 0.3333333333333333, 0.1843137254901961], [0.5686274509803921, 0.41568627450980394, 0.23921568627450981], [0.6470588235294118, 0.45098039215686275, 0.25882352941176473], [0.7254901960784313, 0.4666666666666667, 0.24313725490196078], [0.8117647058823529, 0.5176470588235295, 0.2627450980392157], [0.8705882352941177, 0.6, 0.3686274509803922], [0.5058823529411764, 0.3411764705882353, 0.17254901960784313], [0.34901960784313724, 0.2196078431372549, 0.0196078431372549], [0.7568627450980392, 0.4666666666666667, 0.07058823529411765], [0.8313725490196079, 0.4666666666666667, 0.011764705882352941], [0.803921568627451, 0.4627450980392157, 0.0196078431372549], [0.8705882352941177, 0.5058823529411764, 0.07058823529411765], [0.8784313725490196, 0.49411764705882355, 0.09411764705882353], [0.8823529411764706, 0.5215686274509804, 0.10196078431372549], [0.8627450980392157, 0.5294117647058824, 0.18823529411764706], [0.8588235294117647, 0.5294117647058824, 0.20784313725490197], [0.8588235294117647, 0.5529411764705883, 0.13333333333333333], [0.8705882352941177, 0.5647058823529412, 0.21568627450980393], [0.8549019607843137, 0.5372549019607843, 0.30196078431372547], [0.8941176470588236, 0.5647058823529412, 0.3215686274509804], [0.8941176470588236, 0.5607843137254902, 0.3058823529411765], [0.8784313725490196, 0.5725490196078431, 0.24705882352941178], [0.8862745098039215, 0.5764705882352941, 0.27058823529411763], [0.8431372549019608, 0.596078431372549, 0.3686274509803922], [0.7137254901960784, 0.5529411764705883, 0.38823529411764707], [0.47843137254901963, 0.3686274509803922, 0.28627450980392155], [0.3333333333333333, 0.24705882352941178, 0.1803921568627451]], [[0.5490196078431373, 0.4745098039215686, 0.40784313725490196], [0.4980392156862745, 0.4235294117647059, 0.3568627450980392], [0.4823529411764706, 0.40784313725490196, 0.3411764705882353], [0.5137254901960784, 0.44313725490196076, 0.3686274509803922], [0.4588235294117647, 0.3764705882352941, 0.2901960784313726], [0.396078431372549, 0.2901960784313726, 0.1803921568627451], [0.4, 0.27058823529411763, 0.12549019607843137], [0.48627450980392156, 0.34901960784313724, 0.17254901960784313], [0.5607843137254902, 0.396078431372549, 0.19215686274509805], [0.611764705882353, 0.4235294117647059, 0.20392156862745098], [0.5843137254901961, 0.4117647058823529, 0.20784313725490197], [0.33725490196078434, 0.21568627450980393, 0.058823529411764705], [0.4588235294117647, 0.30196078431372547, 0.06666666666666667], [0.8627450980392157, 0.5411764705882353, 0.09411764705882353], [0.8627450980392157, 0.49019607843137253, 0.027450980392156862], [0.8, 0.47843137254901963, 0.08235294117647059], [0.8549019607843137, 0.5176470588235295, 0.1450980392156863], [0.8352941176470589, 0.47058823529411764, 0.13333333333333333], [0.8431372549019608, 0.5019607843137255, 0.14901960784313725], [0.8274509803921568, 0.5058823529411764, 0.23529411764705882], [0.8431372549019608, 0.5215686274509804, 0.28627450980392155], [0.8509803921568627, 0.5529411764705883, 0.23137254901960785], [0.8784313725490196, 0.5882352941176471, 0.30980392156862746], [0.8352941176470589, 0.5372549019607843, 0.3137254901960784], [0.8313725490196079, 0.5333333333333333, 0.25098039215686274], [0.8431372549019608, 0.5411764705882353, 0.2549019607843137], [0.8392156862745098, 0.5725490196078431, 0.25882352941176473], [0.8470588235294118, 0.6078431372549019, 0.3411764705882353], [0.6745098039215687, 0.5098039215686274, 0.3568627450980392], [0.6, 0.49411764705882355, 0.4], [0.5372549019607843, 0.4470588235294118, 0.38823529411764707], [0.3058823529411765, 0.2235294117647059, 0.1607843137254902]], [[0.5176470588235295, 0.44313725490196076, 0.3764705882352941], [0.48627450980392156, 0.4117647058823529, 0.34509803921568627], [0.4823529411764706, 0.40784313725490196, 0.3411764705882353], [0.48627450980392156, 0.4196078431372549, 0.34509803921568627], [0.5019607843137255, 0.42745098039215684, 0.36470588235294116], [0.43529411764705883, 0.3411764705882353, 0.27058823529411763], [0.35294117647058826, 0.24705882352941178, 0.12549019607843137], [0.396078431372549, 0.28627450980392155, 0.13725490196078433], [0.4196078431372549, 0.29411764705882354, 0.13725490196078433], [0.4, 0.25882352941176473, 0.09019607843137255], [0.3333333333333333, 0.2, 0.050980392156862744], [0.3254901960784314, 0.20392156862745098, 0.050980392156862744], [0.5568627450980392, 0.37254901960784315, 0.10196078431372549], [0.8627450980392157, 0.5647058823529412, 0.1450980392156863], [0.8980392156862745, 0.5686274509803921, 0.15294117647058825], [0.792156862745098, 0.5058823529411764, 0.1843137254901961], [0.8392156862745098, 0.5490196078431373, 0.27450980392156865], [0.8313725490196079, 0.5058823529411764, 0.24313725490196078], [0.8274509803921568, 0.5058823529411764, 0.20392156862745098], [0.8352941176470589, 0.5215686274509804, 0.2823529411764706], [0.8588235294117647, 0.5372549019607843, 0.33725490196078434], [0.8549019607843137, 0.5411764705882353, 0.3137254901960784], [0.8235294117647058, 0.5215686274509804, 0.3137254901960784], [0.8196078431372549, 0.5333333333333333, 0.25882352941176473], [0.8470588235294118, 0.5725490196078431, 0.2196078431372549], [0.8431372549019608, 0.5529411764705883, 0.29411764705882354], [0.8392156862745098, 0.6, 0.3843137254901961], [0.6941176470588235, 0.5372549019607843, 0.35294117647058826], [0.5098039215686274, 0.4117647058823529, 0.30980392156862746], [0.5450980392156862, 0.4627450980392157, 0.403921568627451], [0.5098039215686274, 0.4235294117647059, 0.3764705882352941], [0.4117647058823529, 0.33725490196078434, 0.27450980392156865]], [[0.5058823529411764, 0.43137254901960786, 0.3686274509803922], [0.5294117647058824, 0.4549019607843137, 0.39215686274509803], [0.5372549019607843, 0.4666666666666667, 0.396078431372549], [0.5058823529411764, 0.4392156862745098, 0.3686274509803922], [0.49411764705882355, 0.4235294117647059, 0.3686274509803922], [0.43529411764705883, 0.3568627450980392, 0.2980392156862745], [0.43137254901960786, 0.34509803921568627, 0.25098039215686274], [0.4823529411764706, 0.3764705882352941, 0.26666666666666666], [0.5137254901960784, 0.3764705882352941, 0.2627450980392157], [0.5254901960784314, 0.3843137254901961, 0.25098039215686274], [0.4823529411764706, 0.3411764705882353, 0.2], [0.4196078431372549, 0.27450980392156865, 0.10588235294117647], [0.5450980392156862, 0.34901960784313724, 0.09411764705882353], [0.796078431372549, 0.5450980392156862, 0.19607843137254902], [0.8705882352941177, 0.5882352941176471, 0.2549019607843137], [0.7803921568627451, 0.5019607843137255, 0.24313725490196078], [0.8235294117647058, 0.5490196078431373, 0.32941176470588235], [0.8392156862745098, 0.5411764705882353, 0.3176470588235294], [0.8196078431372549, 0.5215686274509804, 0.24705882352941178], [0.8627450980392157, 0.5647058823529412, 0.3137254901960784], [0.8705882352941177, 0.5529411764705883, 0.33725490196078434], [0.8470588235294118, 0.5294117647058824, 0.30980392156862746], [0.8549019607843137, 0.5529411764705883, 0.3215686274509804], [0.8705882352941177, 0.5882352941176471, 0.25882352941176473], [0.8431372549019608, 0.5764705882352941, 0.23529411764705882], [0.8470588235294118, 0.5882352941176471, 0.396078431372549], [0.7137254901960784, 0.5098039215686274, 0.403921568627451], [0.5411764705882353, 0.4196078431372549, 0.3215686274509804], [0.5176470588235295, 0.43529411764705883, 0.36470588235294116], [0.5803921568627451, 0.49019607843137253, 0.4392156862745098], [0.5490196078431373, 0.4549019607843137, 0.4117647058823529], [0.5490196078431373, 0.4627450980392157, 0.40784313725490196]], [[0.5333333333333333, 0.4588235294117647, 0.403921568627451], [0.5254901960784314, 0.45098039215686275, 0.38823529411764707], [0.5450980392156862, 0.47058823529411764, 0.396078431372549], [0.5490196078431373, 0.4745098039215686, 0.4117647058823529], [0.5137254901960784, 0.4392156862745098, 0.3803921568627451], [0.4980392156862745, 0.4235294117647059, 0.36470588235294116], [0.4745098039215686, 0.4, 0.33725490196078434], [0.43529411764705883, 0.33725490196078434, 0.2627450980392157], [0.4470588235294118, 0.3254901960784314, 0.23137254901960785], [0.5058823529411764, 0.3803921568627451, 0.25098039215686274], [0.5176470588235295, 0.38823529411764707, 0.23137254901960785], [0.48627450980392156, 0.3411764705882353, 0.15294117647058825], [0.5176470588235295, 0.34509803921568627, 0.10980392156862745], [0.6666666666666666, 0.4588235294117647, 0.19607843137254902], [0.792156862745098, 0.5411764705882353, 0.28627450980392155], [0.7529411764705882, 0.4823529411764706, 0.25882352941176473], [0.7568627450980392, 0.49411764705882355, 0.28627450980392155], [0.8156862745098039, 0.5529411764705883, 0.33725490196078434], [0.8196078431372549, 0.5568627450980392, 0.3215686274509804], [0.8274509803921568, 0.5647058823529412, 0.3254901960784314], [0.8431372549019608, 0.5686274509803921, 0.3333333333333333], [0.8313725490196079, 0.5568627450980392, 0.30980392156862746], [0.8313725490196079, 0.5647058823529412, 0.28627450980392155], [0.8588235294117647, 0.596078431372549, 0.2901960784313726], [0.8549019607843137, 0.611764705882353, 0.35294117647058826], [0.6901960784313725, 0.49019607843137253, 0.3411764705882353], [0.5686274509803921, 0.4196078431372549, 0.34901960784313724], [0.5843137254901961, 0.4666666666666667, 0.4], [0.5725490196078431, 0.47058823529411764, 0.40784313725490196], [0.5882352941176471, 0.49019607843137253, 0.4392156862745098], [0.6, 0.4980392156862745, 0.4470588235294118], [0.5843137254901961, 0.48627450980392156, 0.43529411764705883]], [[0.5372549019607843, 0.4627450980392157, 0.40784313725490196], [0.5372549019607843, 0.4627450980392157, 0.403921568627451], [0.5176470588235295, 0.44313725490196076, 0.3686274509803922], [0.5529411764705883, 0.47843137254901963, 0.4117647058823529], [0.5411764705882353, 0.4666666666666667, 0.40784313725490196], [0.5058823529411764, 0.43137254901960786, 0.37254901960784315], [0.5372549019607843, 0.4627450980392157, 0.403921568627451], [0.48627450980392156, 0.4, 0.33725490196078434], [0.44313725490196076, 0.34509803921568627, 0.26666666666666666], [0.4627450980392157, 0.3568627450980392, 0.25098039215686274], [0.396078431372549, 0.28627450980392155, 0.15294117647058825], [0.4549019607843137, 0.3254901960784314, 0.1568627450980392], [0.5411764705882353, 0.3803921568627451, 0.17647058823529413], [0.596078431372549, 0.4196078431372549, 0.20784313725490197], [0.7058823529411765, 0.5098039215686274, 0.3176470588235294], [0.7294117647058823, 0.5215686274509804, 0.35294117647058826], [0.6862745098039216, 0.48627450980392156, 0.3058823529411765], [0.7019607843137254, 0.5058823529411764, 0.3254901960784314], [0.7058823529411765, 0.5019607843137255, 0.3333333333333333], [0.6941176470588235, 0.49411764705882355, 0.32941176470588235], [0.6862745098039216, 0.48627450980392156, 0.30980392156862746], [0.6784313725490196, 0.4823529411764706, 0.30196078431372547], [0.6627450980392157, 0.47058823529411764, 0.2823529411764706], [0.7019607843137254, 0.5058823529411764, 0.3176470588235294], [0.7058823529411765, 0.5215686274509804, 0.34901960784313724], [0.5843137254901961, 0.43137254901960786, 0.3176470588235294], [0.592156862745098, 0.47058823529411764, 0.4117647058823529], [0.6078431372549019, 0.49019607843137253, 0.4235294117647059], [0.596078431372549, 0.48627450980392156, 0.4235294117647059], [0.6274509803921569, 0.5254901960784314, 0.4745098039215686], [0.5843137254901961, 0.4823529411764706, 0.43137254901960786], [0.5725490196078431, 0.47058823529411764, 0.4196078431372549]], [[0.5372549019607843, 0.4627450980392157, 0.40784313725490196], [0.5333333333333333, 0.4588235294117647, 0.396078431372549], [0.5098039215686274, 0.4392156862745098, 0.36470588235294116], [0.5294117647058824, 0.4549019607843137, 0.38823529411764707], [0.5254901960784314, 0.45098039215686275, 0.39215686274509803], [0.5098039215686274, 0.43529411764705883, 0.3764705882352941], [0.5333333333333333, 0.4588235294117647, 0.4], [0.5215686274509804, 0.4470588235294118, 0.39215686274509803], [0.4666666666666667, 0.3843137254901961, 0.3215686274509804], [0.5137254901960784, 0.4235294117647059, 0.3411764705882353], [0.4980392156862745, 0.403921568627451, 0.30196078431372547], [0.5490196078431373, 0.43137254901960786, 0.30980392156862746], [0.6, 0.4588235294117647, 0.3137254901960784], [0.5882352941176471, 0.4470588235294118, 0.29411764705882354], [0.615686274509804, 0.4745098039215686, 0.34901960784313724], [0.596078431372549, 0.4588235294117647, 0.3568627450980392], [0.5176470588235295, 0.3803921568627451, 0.25098039215686274], [0.5058823529411764, 0.3686274509803922, 0.24705882352941178], [0.5372549019607843, 0.39215686274509803, 0.29411764705882354], [0.5411764705882353, 0.4, 0.30980392156862746], [0.5215686274509804, 0.396078431372549, 0.28627450980392155], [0.5568627450980392, 0.43529411764705883, 0.32941176470588235], [0.5568627450980392, 0.43137254901960786, 0.34509803921568627], [0.5490196078431373, 0.4196078431372549, 0.34901960784313724], [0.6039215686274509, 0.47058823529411764, 0.3843137254901961], [0.611764705882353, 0.4980392156862745, 0.4235294117647059], [0.5607843137254902, 0.4666666666666667, 0.40784313725490196], [0.592156862745098, 0.4823529411764706, 0.40784313725490196], [0.5725490196078431, 0.4588235294117647, 0.396078431372549], [0.6039215686274509, 0.5019607843137255, 0.45098039215686275], [0.5647058823529412, 0.4627450980392157, 0.4117647058823529], [0.5607843137254902, 0.4588235294117647, 0.40784313725490196]]]]}'"
            ]
          },
          "metadata": {
            "tags": []
          },
          "execution_count": 33
        }
      ]
    },
    {
      "cell_type": "markdown",
      "metadata": {
        "id": "qsUcJy8coqZJ"
      },
      "source": [
        ""
      ]
    },
    {
      "cell_type": "markdown",
      "metadata": {
        "id": "wWS-dXz_othA"
      },
      "source": [
        "# **15-Sending first request**"
      ]
    },
    {
      "cell_type": "code",
      "metadata": {
        "id": "FMc52OcthTeq"
      },
      "source": [
        "headers={\"content-type\":\"application/json\"}"
      ],
      "execution_count": 34,
      "outputs": []
    },
    {
      "cell_type": "code",
      "metadata": {
        "id": "Ei7NeYYiopyK"
      },
      "source": [
        "json_response=requests.post(url=\"http://localhost:8501/v1/models/cifar10:predict\",data=data,headers=headers)"
      ],
      "execution_count": 35,
      "outputs": []
    },
    {
      "cell_type": "code",
      "metadata": {
        "colab": {
          "base_uri": "https://localhost:8080/"
        },
        "id": "XFD0vegcqDQ1",
        "outputId": "690ea170-5af4-409a-dac9-59669c9c4682"
      },
      "source": [
        "json_response"
      ],
      "execution_count": 36,
      "outputs": [
        {
          "output_type": "execute_result",
          "data": {
            "text/plain": [
              "<Response [200]>"
            ]
          },
          "metadata": {
            "tags": []
          },
          "execution_count": 36
        }
      ]
    },
    {
      "cell_type": "markdown",
      "metadata": {
        "id": "JY0ieGH-sAHt"
      },
      "source": [
        "# **16-Make a prediction**"
      ]
    },
    {
      "cell_type": "code",
      "metadata": {
        "id": "aUb3FJZIqDUJ"
      },
      "source": [
        "predictions=json.loads(json_response.text)[\"predictions\"]"
      ],
      "execution_count": 37,
      "outputs": []
    },
    {
      "cell_type": "code",
      "metadata": {
        "colab": {
          "base_uri": "https://localhost:8080/"
        },
        "id": "igAs51CKop1i",
        "outputId": "ff931041-444a-4e91-8244-f4eaf5a02c97"
      },
      "source": [
        "predictions"
      ],
      "execution_count": 38,
      "outputs": [
        {
          "output_type": "execute_result",
          "data": {
            "text/plain": [
              "[[0.00829173718,\n",
              "  0.00609766,\n",
              "  0.0423105136,\n",
              "  0.186995208,\n",
              "  0.27193433,\n",
              "  0.0454155393,\n",
              "  0.215121016,\n",
              "  0.218303517,\n",
              "  0.00296396576,\n",
              "  0.00256642723]]"
            ]
          },
          "metadata": {
            "tags": []
          },
          "execution_count": 38
        }
      ]
    },
    {
      "cell_type": "code",
      "metadata": {
        "colab": {
          "base_uri": "https://localhost:8080/",
          "height": 284
        },
        "id": "meJX9m07rJb4",
        "outputId": "640c3888-c91c-4499-fbbf-795546dd0b61"
      },
      "source": [
        "plt.imshow(X_test[random_image])"
      ],
      "execution_count": 40,
      "outputs": [
        {
          "output_type": "execute_result",
          "data": {
            "text/plain": [
              "<matplotlib.image.AxesImage at 0x7fcc352478d0>"
            ]
          },
          "metadata": {
            "tags": []
          },
          "execution_count": 40
        },
        {
          "output_type": "display_data",
          "data": {
            "image/png": "[encoded data removed]",
            "text/plain": [
              "<Figure size 432x288 with 1 Axes>"
            ]
          },
          "metadata": {
            "tags": [],
            "needs_background": "light"
          }
        }
      ]
    },
    {
      "cell_type": "code",
      "metadata": {
        "colab": {
          "base_uri": "https://localhost:8080/",
          "height": 36
        },
        "id": "ucSOeoD0rtJq",
        "outputId": "8f68cd64-39a1-4c49-f383-3333c3ff6a88"
      },
      "source": [
        "class_names[np.argmax(predictions[0])]"
      ],
      "execution_count": 42,
      "outputs": [
        {
          "output_type": "execute_result",
          "data": {
            "application/vnd.google.colaboratory.intrinsic+json": {
              "type": "string"
            },
            "text/plain": [
              "'deer'"
            ]
          },
          "metadata": {
            "tags": []
          },
          "execution_count": 42
        }
      ]
    },
    {
      "cell_type": "code",
      "metadata": {
        "id": "YibCy54LrJyi"
      },
      "source": [
        ""
      ],
      "execution_count": null,
      "outputs": []
    }
  ]
}